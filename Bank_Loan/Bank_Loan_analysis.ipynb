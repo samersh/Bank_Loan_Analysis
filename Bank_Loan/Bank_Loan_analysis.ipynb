{
 "cells": [
  {
   "cell_type": "markdown",
   "metadata": {},
   "source": [
    "# Analyzing borrowers’ risk of defaulting\n",
    "\n",
    "Your project is to prepare a report for a bank’s loan division. You’ll need to find out if a customer’s marital status and number of children has an impact on whether they will default on a loan. The bank already has some data on customers’ credit worthiness.\n",
    "\n",
    "Your report will be considered when building a **credit scoring** of a potential customer. A ** credit scoring ** is used to evaluate the ability of a potential borrower to repay their loan."
   ]
  },
  {
   "cell_type": "markdown",
   "metadata": {},
   "source": [
    "## Open the data file and have a look at the general information. "
   ]
  },
  {
   "cell_type": "code",
   "execution_count": 1,
   "metadata": {
    "scrolled": true
   },
   "outputs": [
    {
     "name": "stdout",
     "output_type": "stream",
     "text": [
      "<class 'pandas.core.frame.DataFrame'>\n",
      "RangeIndex: 21525 entries, 0 to 21524\n",
      "Data columns (total 12 columns):\n",
      "children            21525 non-null int64\n",
      "days_employed       19351 non-null float64\n",
      "dob_years           21525 non-null int64\n",
      "education           21525 non-null object\n",
      "education_id        21525 non-null int64\n",
      "family_status       21525 non-null object\n",
      "family_status_id    21525 non-null int64\n",
      "gender              21525 non-null object\n",
      "income_type         21525 non-null object\n",
      "debt                21525 non-null int64\n",
      "total_income        19351 non-null float64\n",
      "purpose             21525 non-null object\n",
      "dtypes: float64(2), int64(5), object(5)\n",
      "memory usage: 2.0+ MB\n"
     ]
    }
   ],
   "source": [
    "import pandas as pd\n",
    "df = pd.read_csv('/datasets/credit_scoring_eng.csv') #open and read the dataframe file \n",
    "df.info() #dispaly the data general information"
   ]
  },
  {
   "cell_type": "code",
   "execution_count": 2,
   "metadata": {},
   "outputs": [
    {
     "data": {
      "text/html": [
       "<div>\n",
       "<style scoped>\n",
       "    .dataframe tbody tr th:only-of-type {\n",
       "        vertical-align: middle;\n",
       "    }\n",
       "\n",
       "    .dataframe tbody tr th {\n",
       "        vertical-align: top;\n",
       "    }\n",
       "\n",
       "    .dataframe thead th {\n",
       "        text-align: right;\n",
       "    }\n",
       "</style>\n",
       "<table border=\"1\" class=\"dataframe\">\n",
       "  <thead>\n",
       "    <tr style=\"text-align: right;\">\n",
       "      <th></th>\n",
       "      <th>children</th>\n",
       "      <th>days_employed</th>\n",
       "      <th>dob_years</th>\n",
       "      <th>education</th>\n",
       "      <th>education_id</th>\n",
       "      <th>family_status</th>\n",
       "      <th>family_status_id</th>\n",
       "      <th>gender</th>\n",
       "      <th>income_type</th>\n",
       "      <th>debt</th>\n",
       "      <th>total_income</th>\n",
       "      <th>purpose</th>\n",
       "    </tr>\n",
       "  </thead>\n",
       "  <tbody>\n",
       "    <tr>\n",
       "      <td>0</td>\n",
       "      <td>1</td>\n",
       "      <td>-8437.673028</td>\n",
       "      <td>42</td>\n",
       "      <td>bachelor's degree</td>\n",
       "      <td>0</td>\n",
       "      <td>married</td>\n",
       "      <td>0</td>\n",
       "      <td>F</td>\n",
       "      <td>employee</td>\n",
       "      <td>0</td>\n",
       "      <td>40620.102</td>\n",
       "      <td>purchase of the house</td>\n",
       "    </tr>\n",
       "    <tr>\n",
       "      <td>1</td>\n",
       "      <td>1</td>\n",
       "      <td>-4024.803754</td>\n",
       "      <td>36</td>\n",
       "      <td>secondary education</td>\n",
       "      <td>1</td>\n",
       "      <td>married</td>\n",
       "      <td>0</td>\n",
       "      <td>F</td>\n",
       "      <td>employee</td>\n",
       "      <td>0</td>\n",
       "      <td>17932.802</td>\n",
       "      <td>car purchase</td>\n",
       "    </tr>\n",
       "    <tr>\n",
       "      <td>2</td>\n",
       "      <td>0</td>\n",
       "      <td>-5623.422610</td>\n",
       "      <td>33</td>\n",
       "      <td>Secondary Education</td>\n",
       "      <td>1</td>\n",
       "      <td>married</td>\n",
       "      <td>0</td>\n",
       "      <td>M</td>\n",
       "      <td>employee</td>\n",
       "      <td>0</td>\n",
       "      <td>23341.752</td>\n",
       "      <td>purchase of the house</td>\n",
       "    </tr>\n",
       "    <tr>\n",
       "      <td>3</td>\n",
       "      <td>3</td>\n",
       "      <td>-4124.747207</td>\n",
       "      <td>32</td>\n",
       "      <td>secondary education</td>\n",
       "      <td>1</td>\n",
       "      <td>married</td>\n",
       "      <td>0</td>\n",
       "      <td>M</td>\n",
       "      <td>employee</td>\n",
       "      <td>0</td>\n",
       "      <td>42820.568</td>\n",
       "      <td>supplementary education</td>\n",
       "    </tr>\n",
       "    <tr>\n",
       "      <td>4</td>\n",
       "      <td>0</td>\n",
       "      <td>340266.072047</td>\n",
       "      <td>53</td>\n",
       "      <td>secondary education</td>\n",
       "      <td>1</td>\n",
       "      <td>civil partnership</td>\n",
       "      <td>1</td>\n",
       "      <td>F</td>\n",
       "      <td>retiree</td>\n",
       "      <td>0</td>\n",
       "      <td>25378.572</td>\n",
       "      <td>to have a wedding</td>\n",
       "    </tr>\n",
       "    <tr>\n",
       "      <td>5</td>\n",
       "      <td>0</td>\n",
       "      <td>-926.185831</td>\n",
       "      <td>27</td>\n",
       "      <td>bachelor's degree</td>\n",
       "      <td>0</td>\n",
       "      <td>civil partnership</td>\n",
       "      <td>1</td>\n",
       "      <td>M</td>\n",
       "      <td>business</td>\n",
       "      <td>0</td>\n",
       "      <td>40922.170</td>\n",
       "      <td>purchase of the house</td>\n",
       "    </tr>\n",
       "    <tr>\n",
       "      <td>6</td>\n",
       "      <td>0</td>\n",
       "      <td>-2879.202052</td>\n",
       "      <td>43</td>\n",
       "      <td>bachelor's degree</td>\n",
       "      <td>0</td>\n",
       "      <td>married</td>\n",
       "      <td>0</td>\n",
       "      <td>F</td>\n",
       "      <td>business</td>\n",
       "      <td>0</td>\n",
       "      <td>38484.156</td>\n",
       "      <td>housing transactions</td>\n",
       "    </tr>\n",
       "    <tr>\n",
       "      <td>7</td>\n",
       "      <td>0</td>\n",
       "      <td>-152.779569</td>\n",
       "      <td>50</td>\n",
       "      <td>SECONDARY EDUCATION</td>\n",
       "      <td>1</td>\n",
       "      <td>married</td>\n",
       "      <td>0</td>\n",
       "      <td>M</td>\n",
       "      <td>employee</td>\n",
       "      <td>0</td>\n",
       "      <td>21731.829</td>\n",
       "      <td>education</td>\n",
       "    </tr>\n",
       "    <tr>\n",
       "      <td>8</td>\n",
       "      <td>2</td>\n",
       "      <td>-6929.865299</td>\n",
       "      <td>35</td>\n",
       "      <td>BACHELOR'S DEGREE</td>\n",
       "      <td>0</td>\n",
       "      <td>civil partnership</td>\n",
       "      <td>1</td>\n",
       "      <td>F</td>\n",
       "      <td>employee</td>\n",
       "      <td>0</td>\n",
       "      <td>15337.093</td>\n",
       "      <td>having a wedding</td>\n",
       "    </tr>\n",
       "    <tr>\n",
       "      <td>9</td>\n",
       "      <td>0</td>\n",
       "      <td>-2188.756445</td>\n",
       "      <td>41</td>\n",
       "      <td>secondary education</td>\n",
       "      <td>1</td>\n",
       "      <td>married</td>\n",
       "      <td>0</td>\n",
       "      <td>M</td>\n",
       "      <td>employee</td>\n",
       "      <td>0</td>\n",
       "      <td>23108.150</td>\n",
       "      <td>purchase of the house for my family</td>\n",
       "    </tr>\n",
       "  </tbody>\n",
       "</table>\n",
       "</div>"
      ],
      "text/plain": [
       "   children  days_employed  dob_years            education  education_id  \\\n",
       "0         1   -8437.673028         42    bachelor's degree             0   \n",
       "1         1   -4024.803754         36  secondary education             1   \n",
       "2         0   -5623.422610         33  Secondary Education             1   \n",
       "3         3   -4124.747207         32  secondary education             1   \n",
       "4         0  340266.072047         53  secondary education             1   \n",
       "5         0    -926.185831         27    bachelor's degree             0   \n",
       "6         0   -2879.202052         43    bachelor's degree             0   \n",
       "7         0    -152.779569         50  SECONDARY EDUCATION             1   \n",
       "8         2   -6929.865299         35    BACHELOR'S DEGREE             0   \n",
       "9         0   -2188.756445         41  secondary education             1   \n",
       "\n",
       "       family_status  family_status_id gender income_type  debt  total_income  \\\n",
       "0            married                 0      F    employee     0     40620.102   \n",
       "1            married                 0      F    employee     0     17932.802   \n",
       "2            married                 0      M    employee     0     23341.752   \n",
       "3            married                 0      M    employee     0     42820.568   \n",
       "4  civil partnership                 1      F     retiree     0     25378.572   \n",
       "5  civil partnership                 1      M    business     0     40922.170   \n",
       "6            married                 0      F    business     0     38484.156   \n",
       "7            married                 0      M    employee     0     21731.829   \n",
       "8  civil partnership                 1      F    employee     0     15337.093   \n",
       "9            married                 0      M    employee     0     23108.150   \n",
       "\n",
       "                               purpose  \n",
       "0                purchase of the house  \n",
       "1                         car purchase  \n",
       "2                purchase of the house  \n",
       "3              supplementary education  \n",
       "4                    to have a wedding  \n",
       "5                purchase of the house  \n",
       "6                 housing transactions  \n",
       "7                            education  \n",
       "8                     having a wedding  \n",
       "9  purchase of the house for my family  "
      ]
     },
     "execution_count": 2,
     "metadata": {},
     "output_type": "execute_result"
    }
   ],
   "source": [
    "df.head(10)"
   ]
  },
  {
   "cell_type": "code",
   "execution_count": 3,
   "metadata": {},
   "outputs": [
    {
     "name": "stdout",
     "output_type": "stream",
     "text": [
      "children 14149\n",
      "days_employed 0\n",
      "dob_years 101\n",
      "education 0\n",
      "education_id 5260\n",
      "family_status 0\n",
      "family_status_id 12380\n",
      "gender 0\n",
      "income_type 0\n",
      "debt 19784\n",
      "total_income 0\n",
      "purpose 0\n"
     ]
    }
   ],
   "source": [
    "for i in df: #creating function to check on the dataset columns if they contain 0 values\n",
    "    print(i, len(df[df[i]==0])) "
   ]
  },
  {
   "cell_type": "code",
   "execution_count": 4,
   "metadata": {},
   "outputs": [
    {
     "data": {
      "text/plain": [
       "secondary education    13750\n",
       "bachelor's degree       4718\n",
       "SECONDARY EDUCATION      772\n",
       "Secondary Education      711\n",
       "some college             668\n",
       "BACHELOR'S DEGREE        274\n",
       "Bachelor's Degree        268\n",
       "primary education        250\n",
       "Some College              47\n",
       "SOME COLLEGE              29\n",
       "PRIMARY EDUCATION         17\n",
       "Primary Education         15\n",
       "graduate degree            4\n",
       "Graduate Degree            1\n",
       "GRADUATE DEGREE            1\n",
       "Name: education, dtype: int64"
      ]
     },
     "execution_count": 4,
     "metadata": {},
     "output_type": "execute_result"
    }
   ],
   "source": [
    "df['education'].value_counts() "
   ]
  },
  {
   "cell_type": "code",
   "execution_count": 5,
   "metadata": {},
   "outputs": [
    {
     "data": {
      "text/plain": [
       "array([ 1,  0,  3,  2, -1,  4, 20,  5])"
      ]
     },
     "execution_count": 5,
     "metadata": {},
     "output_type": "execute_result"
    }
   ],
   "source": [
    "df['children'].unique() #display the unique values of 'children' column"
   ]
  },
  {
   "cell_type": "markdown",
   "metadata": {},
   "source": [
    "### Conclusion"
   ]
  },
  {
   "cell_type": "markdown",
   "metadata": {},
   "source": [
    "After reading the file and displaying the general information, I noticed there are two columns with missing values, 'days_employed' and 'total_income' and they are the only columns with the 'float64' value type.\n",
    "\n",
    "Therefore, I looked deeper into the data for those columns the majority of the missed data is due to unemployed or retired people, they have no total for their income and no employment days. As a first look at the data frame, those were the first two things that I noticed. Nevertheless, the 'days_employed' column has a lot of messy data. \n",
    "\n",
    "I started to look for 0 values in the data frame, and if they are relevant to be in certain columns or not, for example, it was relevant to find 0 values in the 'children' column but it wasn't relevant to find them in the 'dob_years' column. \n",
    "\n",
    "I also noticed the duplicates in the 'education' column with different text formats. Therefore, I printed the values of the 'education' column.\n",
    "\n",
    "I checked the unique values of the 'children' column, and apparently, there is a typo in one of the values that is '-1'. \n",
    "\n",
    "In the next step, I will clean up the data and fix the missing and irrelevant values."
   ]
  },
  {
   "cell_type": "markdown",
   "metadata": {},
   "source": [
    "## Data preprocessing"
   ]
  },
  {
   "cell_type": "markdown",
   "metadata": {},
   "source": [
    "### Processing missing values"
   ]
  },
  {
   "cell_type": "code",
   "execution_count": 6,
   "metadata": {},
   "outputs": [],
   "source": [
    "df = df.drop(columns='days_employed')  # deleting the \"days_employed\" column "
   ]
  },
  {
   "cell_type": "code",
   "execution_count": 7,
   "metadata": {},
   "outputs": [],
   "source": [
    "df['total_income'] = df['total_income'].fillna(df.groupby('income_type')['total_income'].transform('median')) #filling the missing values with the median of each 'income_type' in the 'total_income' column "
   ]
  },
  {
   "cell_type": "code",
   "execution_count": 8,
   "metadata": {},
   "outputs": [],
   "source": [
    "df.loc[df['children'] < 0, 'children'] = 1 # to replace the negative amout of children '-1' to be '1'  i believe it was a typo\n",
    "df = df.drop(df[df['children'] > 5].index) #keep the range of children between 0 to 5, and drop the rest "
   ]
  },
  {
   "cell_type": "code",
   "execution_count": 9,
   "metadata": {
    "scrolled": false
   },
   "outputs": [],
   "source": [
    "avg_age = int(df['dob_years'].mean()) # measure the median of the ages in the dataset \n",
    "df['dob_years'] = df['dob_years'].replace(0, avg_age) # replace the 0 values with the median of the age dataset "
   ]
  },
  {
   "cell_type": "code",
   "execution_count": 10,
   "metadata": {},
   "outputs": [
    {
     "data": {
      "text/html": [
       "<div>\n",
       "<style scoped>\n",
       "    .dataframe tbody tr th:only-of-type {\n",
       "        vertical-align: middle;\n",
       "    }\n",
       "\n",
       "    .dataframe tbody tr th {\n",
       "        vertical-align: top;\n",
       "    }\n",
       "\n",
       "    .dataframe thead th {\n",
       "        text-align: right;\n",
       "    }\n",
       "</style>\n",
       "<table border=\"1\" class=\"dataframe\">\n",
       "  <thead>\n",
       "    <tr style=\"text-align: right;\">\n",
       "      <th></th>\n",
       "      <th>children</th>\n",
       "      <th>dob_years</th>\n",
       "      <th>education</th>\n",
       "      <th>education_id</th>\n",
       "      <th>family_status</th>\n",
       "      <th>family_status_id</th>\n",
       "      <th>gender</th>\n",
       "      <th>income_type</th>\n",
       "      <th>debt</th>\n",
       "      <th>total_income</th>\n",
       "      <th>purpose</th>\n",
       "    </tr>\n",
       "  </thead>\n",
       "  <tbody>\n",
       "    <tr>\n",
       "      <td>0</td>\n",
       "      <td>1</td>\n",
       "      <td>42</td>\n",
       "      <td>bachelor's degree</td>\n",
       "      <td>0</td>\n",
       "      <td>married</td>\n",
       "      <td>0</td>\n",
       "      <td>F</td>\n",
       "      <td>employee</td>\n",
       "      <td>0</td>\n",
       "      <td>40620.102</td>\n",
       "      <td>purchase of the house</td>\n",
       "    </tr>\n",
       "    <tr>\n",
       "      <td>1</td>\n",
       "      <td>1</td>\n",
       "      <td>36</td>\n",
       "      <td>secondary education</td>\n",
       "      <td>1</td>\n",
       "      <td>married</td>\n",
       "      <td>0</td>\n",
       "      <td>F</td>\n",
       "      <td>employee</td>\n",
       "      <td>0</td>\n",
       "      <td>17932.802</td>\n",
       "      <td>car purchase</td>\n",
       "    </tr>\n",
       "    <tr>\n",
       "      <td>2</td>\n",
       "      <td>0</td>\n",
       "      <td>33</td>\n",
       "      <td>Secondary Education</td>\n",
       "      <td>1</td>\n",
       "      <td>married</td>\n",
       "      <td>0</td>\n",
       "      <td>M</td>\n",
       "      <td>employee</td>\n",
       "      <td>0</td>\n",
       "      <td>23341.752</td>\n",
       "      <td>purchase of the house</td>\n",
       "    </tr>\n",
       "    <tr>\n",
       "      <td>3</td>\n",
       "      <td>3</td>\n",
       "      <td>32</td>\n",
       "      <td>secondary education</td>\n",
       "      <td>1</td>\n",
       "      <td>married</td>\n",
       "      <td>0</td>\n",
       "      <td>M</td>\n",
       "      <td>employee</td>\n",
       "      <td>0</td>\n",
       "      <td>42820.568</td>\n",
       "      <td>supplementary education</td>\n",
       "    </tr>\n",
       "    <tr>\n",
       "      <td>4</td>\n",
       "      <td>0</td>\n",
       "      <td>53</td>\n",
       "      <td>secondary education</td>\n",
       "      <td>1</td>\n",
       "      <td>civil partnership</td>\n",
       "      <td>1</td>\n",
       "      <td>F</td>\n",
       "      <td>retiree</td>\n",
       "      <td>0</td>\n",
       "      <td>25378.572</td>\n",
       "      <td>to have a wedding</td>\n",
       "    </tr>\n",
       "    <tr>\n",
       "      <td>5</td>\n",
       "      <td>0</td>\n",
       "      <td>27</td>\n",
       "      <td>bachelor's degree</td>\n",
       "      <td>0</td>\n",
       "      <td>civil partnership</td>\n",
       "      <td>1</td>\n",
       "      <td>M</td>\n",
       "      <td>business</td>\n",
       "      <td>0</td>\n",
       "      <td>40922.170</td>\n",
       "      <td>purchase of the house</td>\n",
       "    </tr>\n",
       "    <tr>\n",
       "      <td>6</td>\n",
       "      <td>0</td>\n",
       "      <td>43</td>\n",
       "      <td>bachelor's degree</td>\n",
       "      <td>0</td>\n",
       "      <td>married</td>\n",
       "      <td>0</td>\n",
       "      <td>F</td>\n",
       "      <td>business</td>\n",
       "      <td>0</td>\n",
       "      <td>38484.156</td>\n",
       "      <td>housing transactions</td>\n",
       "    </tr>\n",
       "    <tr>\n",
       "      <td>7</td>\n",
       "      <td>0</td>\n",
       "      <td>50</td>\n",
       "      <td>SECONDARY EDUCATION</td>\n",
       "      <td>1</td>\n",
       "      <td>married</td>\n",
       "      <td>0</td>\n",
       "      <td>M</td>\n",
       "      <td>employee</td>\n",
       "      <td>0</td>\n",
       "      <td>21731.829</td>\n",
       "      <td>education</td>\n",
       "    </tr>\n",
       "    <tr>\n",
       "      <td>8</td>\n",
       "      <td>2</td>\n",
       "      <td>35</td>\n",
       "      <td>BACHELOR'S DEGREE</td>\n",
       "      <td>0</td>\n",
       "      <td>civil partnership</td>\n",
       "      <td>1</td>\n",
       "      <td>F</td>\n",
       "      <td>employee</td>\n",
       "      <td>0</td>\n",
       "      <td>15337.093</td>\n",
       "      <td>having a wedding</td>\n",
       "    </tr>\n",
       "    <tr>\n",
       "      <td>9</td>\n",
       "      <td>0</td>\n",
       "      <td>41</td>\n",
       "      <td>secondary education</td>\n",
       "      <td>1</td>\n",
       "      <td>married</td>\n",
       "      <td>0</td>\n",
       "      <td>M</td>\n",
       "      <td>employee</td>\n",
       "      <td>0</td>\n",
       "      <td>23108.150</td>\n",
       "      <td>purchase of the house for my family</td>\n",
       "    </tr>\n",
       "  </tbody>\n",
       "</table>\n",
       "</div>"
      ],
      "text/plain": [
       "   children  dob_years            education  education_id      family_status  \\\n",
       "0         1         42    bachelor's degree             0            married   \n",
       "1         1         36  secondary education             1            married   \n",
       "2         0         33  Secondary Education             1            married   \n",
       "3         3         32  secondary education             1            married   \n",
       "4         0         53  secondary education             1  civil partnership   \n",
       "5         0         27    bachelor's degree             0  civil partnership   \n",
       "6         0         43    bachelor's degree             0            married   \n",
       "7         0         50  SECONDARY EDUCATION             1            married   \n",
       "8         2         35    BACHELOR'S DEGREE             0  civil partnership   \n",
       "9         0         41  secondary education             1            married   \n",
       "\n",
       "   family_status_id gender income_type  debt  total_income  \\\n",
       "0                 0      F    employee     0     40620.102   \n",
       "1                 0      F    employee     0     17932.802   \n",
       "2                 0      M    employee     0     23341.752   \n",
       "3                 0      M    employee     0     42820.568   \n",
       "4                 1      F     retiree     0     25378.572   \n",
       "5                 1      M    business     0     40922.170   \n",
       "6                 0      F    business     0     38484.156   \n",
       "7                 0      M    employee     0     21731.829   \n",
       "8                 1      F    employee     0     15337.093   \n",
       "9                 0      M    employee     0     23108.150   \n",
       "\n",
       "                               purpose  \n",
       "0                purchase of the house  \n",
       "1                         car purchase  \n",
       "2                purchase of the house  \n",
       "3              supplementary education  \n",
       "4                    to have a wedding  \n",
       "5                purchase of the house  \n",
       "6                 housing transactions  \n",
       "7                            education  \n",
       "8                     having a wedding  \n",
       "9  purchase of the house for my family  "
      ]
     },
     "metadata": {},
     "output_type": "display_data"
    }
   ],
   "source": [
    "display(df.head(10)) #display the first 10 rows in the dataframe "
   ]
  },
  {
   "cell_type": "code",
   "execution_count": 11,
   "metadata": {},
   "outputs": [
    {
     "data": {
      "text/plain": [
       "children            0\n",
       "dob_years           0\n",
       "education           0\n",
       "education_id        0\n",
       "family_status       0\n",
       "family_status_id    0\n",
       "gender              0\n",
       "income_type         0\n",
       "debt                0\n",
       "total_income        0\n",
       "purpose             0\n",
       "dtype: int64"
      ]
     },
     "execution_count": 11,
     "metadata": {},
     "output_type": "execute_result"
    }
   ],
   "source": [
    "df.isnull().sum() #check if we have any missing values left"
   ]
  },
  {
   "cell_type": "markdown",
   "metadata": {},
   "source": [
    "### Conclusion"
   ]
  },
  {
   "cell_type": "markdown",
   "metadata": {},
   "source": [
    "I decided to drop the column of 'days_employed' since it does not need the project tasks, and also, the data in it is super messy. Although it could be cleaned and, arranged it's better to focus on the project tasks.\n",
    "\n",
    "Since I deleted the 'days_employed' column, the only column left with missing values is the 'total_income'. \n",
    "\n",
    "In the 'total_income' I filled the missing value with the median of income for each 'income_type', so if the 'income_type' of the missing value is Business, it will calculate the median for business 'income_type' and place it in the 'total_income'.\n",
    "\n",
    "The 'children' column had a -1 value, where it wasn't relevant. I believe it was a typo during the data entry. Therefore, I used the loc method with a condition statement to replace the value in a fast way. I also eliminated the value 20, I believe it wasn't relevant therefore I used the drop method to drop any value above 5 to keep the range of children between 0 and 5, and the only value that was above 5 is 20. \n",
    "\n",
    "There were irrelevant values in some columns like 'dob_years', it contained 0 values. 0 is an irrelevant value for age, so I measured the mean of all the 'dob_years' column and saved it in the avg_age variable and I used it to replace the 0's in the 'dob_years' column.\n",
    "\n",
    "I display the data frame to take another look and I checked if we still have any missing value left, and according to the table, we don't have anymore."
   ]
  },
  {
   "cell_type": "markdown",
   "metadata": {},
   "source": [
    "### Data type replacement"
   ]
  },
  {
   "cell_type": "code",
   "execution_count": 12,
   "metadata": {},
   "outputs": [
    {
     "data": {
      "text/html": [
       "<div>\n",
       "<style scoped>\n",
       "    .dataframe tbody tr th:only-of-type {\n",
       "        vertical-align: middle;\n",
       "    }\n",
       "\n",
       "    .dataframe tbody tr th {\n",
       "        vertical-align: top;\n",
       "    }\n",
       "\n",
       "    .dataframe thead th {\n",
       "        text-align: right;\n",
       "    }\n",
       "</style>\n",
       "<table border=\"1\" class=\"dataframe\">\n",
       "  <thead>\n",
       "    <tr style=\"text-align: right;\">\n",
       "      <th></th>\n",
       "      <th>children</th>\n",
       "      <th>dob_years</th>\n",
       "      <th>education</th>\n",
       "      <th>education_id</th>\n",
       "      <th>family_status</th>\n",
       "      <th>family_status_id</th>\n",
       "      <th>gender</th>\n",
       "      <th>income_type</th>\n",
       "      <th>debt</th>\n",
       "      <th>total_income</th>\n",
       "      <th>purpose</th>\n",
       "    </tr>\n",
       "  </thead>\n",
       "  <tbody>\n",
       "    <tr>\n",
       "      <td>0</td>\n",
       "      <td>1</td>\n",
       "      <td>42</td>\n",
       "      <td>bachelor's degree</td>\n",
       "      <td>0</td>\n",
       "      <td>married</td>\n",
       "      <td>0</td>\n",
       "      <td>F</td>\n",
       "      <td>employee</td>\n",
       "      <td>0</td>\n",
       "      <td>40620</td>\n",
       "      <td>purchase of the house</td>\n",
       "    </tr>\n",
       "    <tr>\n",
       "      <td>1</td>\n",
       "      <td>1</td>\n",
       "      <td>36</td>\n",
       "      <td>secondary education</td>\n",
       "      <td>1</td>\n",
       "      <td>married</td>\n",
       "      <td>0</td>\n",
       "      <td>F</td>\n",
       "      <td>employee</td>\n",
       "      <td>0</td>\n",
       "      <td>17932</td>\n",
       "      <td>car purchase</td>\n",
       "    </tr>\n",
       "    <tr>\n",
       "      <td>2</td>\n",
       "      <td>0</td>\n",
       "      <td>33</td>\n",
       "      <td>Secondary Education</td>\n",
       "      <td>1</td>\n",
       "      <td>married</td>\n",
       "      <td>0</td>\n",
       "      <td>M</td>\n",
       "      <td>employee</td>\n",
       "      <td>0</td>\n",
       "      <td>23341</td>\n",
       "      <td>purchase of the house</td>\n",
       "    </tr>\n",
       "    <tr>\n",
       "      <td>3</td>\n",
       "      <td>3</td>\n",
       "      <td>32</td>\n",
       "      <td>secondary education</td>\n",
       "      <td>1</td>\n",
       "      <td>married</td>\n",
       "      <td>0</td>\n",
       "      <td>M</td>\n",
       "      <td>employee</td>\n",
       "      <td>0</td>\n",
       "      <td>42820</td>\n",
       "      <td>supplementary education</td>\n",
       "    </tr>\n",
       "    <tr>\n",
       "      <td>4</td>\n",
       "      <td>0</td>\n",
       "      <td>53</td>\n",
       "      <td>secondary education</td>\n",
       "      <td>1</td>\n",
       "      <td>civil partnership</td>\n",
       "      <td>1</td>\n",
       "      <td>F</td>\n",
       "      <td>retiree</td>\n",
       "      <td>0</td>\n",
       "      <td>25378</td>\n",
       "      <td>to have a wedding</td>\n",
       "    </tr>\n",
       "  </tbody>\n",
       "</table>\n",
       "</div>"
      ],
      "text/plain": [
       "   children  dob_years            education  education_id      family_status  \\\n",
       "0         1         42    bachelor's degree             0            married   \n",
       "1         1         36  secondary education             1            married   \n",
       "2         0         33  Secondary Education             1            married   \n",
       "3         3         32  secondary education             1            married   \n",
       "4         0         53  secondary education             1  civil partnership   \n",
       "\n",
       "   family_status_id gender income_type  debt  total_income  \\\n",
       "0                 0      F    employee     0         40620   \n",
       "1                 0      F    employee     0         17932   \n",
       "2                 0      M    employee     0         23341   \n",
       "3                 0      M    employee     0         42820   \n",
       "4                 1      F     retiree     0         25378   \n",
       "\n",
       "                   purpose  \n",
       "0    purchase of the house  \n",
       "1             car purchase  \n",
       "2    purchase of the house  \n",
       "3  supplementary education  \n",
       "4        to have a wedding  "
      ]
     },
     "metadata": {},
     "output_type": "display_data"
    }
   ],
   "source": [
    "df['total_income'] = df['total_income'].astype(int) #convert the total_income type to integer \n",
    "display(df.head())"
   ]
  },
  {
   "cell_type": "markdown",
   "metadata": {},
   "source": [
    "### Conclusion"
   ]
  },
  {
   "cell_type": "markdown",
   "metadata": {},
   "source": [
    "Going back to 'total_income', it is the only column in the dataset that has the type of 'float64'. We need to need to convert the type to 'int'. I used the astype() method to convert all the values of the column to integer, and we can see in the table that the values look more organized and clean in the data frame.  "
   ]
  },
  {
   "cell_type": "markdown",
   "metadata": {},
   "source": [
    "### Processing duplicates"
   ]
  },
  {
   "cell_type": "code",
   "execution_count": 13,
   "metadata": {
    "scrolled": false
   },
   "outputs": [
    {
     "data": {
      "text/html": [
       "<div>\n",
       "<style scoped>\n",
       "    .dataframe tbody tr th:only-of-type {\n",
       "        vertical-align: middle;\n",
       "    }\n",
       "\n",
       "    .dataframe tbody tr th {\n",
       "        vertical-align: top;\n",
       "    }\n",
       "\n",
       "    .dataframe thead th {\n",
       "        text-align: right;\n",
       "    }\n",
       "</style>\n",
       "<table border=\"1\" class=\"dataframe\">\n",
       "  <thead>\n",
       "    <tr style=\"text-align: right;\">\n",
       "      <th></th>\n",
       "      <th>children</th>\n",
       "      <th>dob_years</th>\n",
       "      <th>education</th>\n",
       "      <th>education_id</th>\n",
       "      <th>family_status</th>\n",
       "      <th>family_status_id</th>\n",
       "      <th>gender</th>\n",
       "      <th>income_type</th>\n",
       "      <th>debt</th>\n",
       "      <th>total_income</th>\n",
       "      <th>purpose</th>\n",
       "    </tr>\n",
       "  </thead>\n",
       "  <tbody>\n",
       "    <tr>\n",
       "      <td>0</td>\n",
       "      <td>1</td>\n",
       "      <td>42</td>\n",
       "      <td>bachelor's degree</td>\n",
       "      <td>0</td>\n",
       "      <td>married</td>\n",
       "      <td>0</td>\n",
       "      <td>F</td>\n",
       "      <td>employee</td>\n",
       "      <td>0</td>\n",
       "      <td>40620</td>\n",
       "      <td>purchase of the house</td>\n",
       "    </tr>\n",
       "    <tr>\n",
       "      <td>1</td>\n",
       "      <td>1</td>\n",
       "      <td>36</td>\n",
       "      <td>secondary education</td>\n",
       "      <td>1</td>\n",
       "      <td>married</td>\n",
       "      <td>0</td>\n",
       "      <td>F</td>\n",
       "      <td>employee</td>\n",
       "      <td>0</td>\n",
       "      <td>17932</td>\n",
       "      <td>car purchase</td>\n",
       "    </tr>\n",
       "    <tr>\n",
       "      <td>2</td>\n",
       "      <td>0</td>\n",
       "      <td>33</td>\n",
       "      <td>secondary education</td>\n",
       "      <td>1</td>\n",
       "      <td>married</td>\n",
       "      <td>0</td>\n",
       "      <td>M</td>\n",
       "      <td>employee</td>\n",
       "      <td>0</td>\n",
       "      <td>23341</td>\n",
       "      <td>purchase of the house</td>\n",
       "    </tr>\n",
       "    <tr>\n",
       "      <td>3</td>\n",
       "      <td>3</td>\n",
       "      <td>32</td>\n",
       "      <td>secondary education</td>\n",
       "      <td>1</td>\n",
       "      <td>married</td>\n",
       "      <td>0</td>\n",
       "      <td>M</td>\n",
       "      <td>employee</td>\n",
       "      <td>0</td>\n",
       "      <td>42820</td>\n",
       "      <td>supplementary education</td>\n",
       "    </tr>\n",
       "    <tr>\n",
       "      <td>4</td>\n",
       "      <td>0</td>\n",
       "      <td>53</td>\n",
       "      <td>secondary education</td>\n",
       "      <td>1</td>\n",
       "      <td>civil partnership</td>\n",
       "      <td>1</td>\n",
       "      <td>F</td>\n",
       "      <td>retiree</td>\n",
       "      <td>0</td>\n",
       "      <td>25378</td>\n",
       "      <td>to have a wedding</td>\n",
       "    </tr>\n",
       "  </tbody>\n",
       "</table>\n",
       "</div>"
      ],
      "text/plain": [
       "   children  dob_years            education  education_id      family_status  \\\n",
       "0         1         42    bachelor's degree             0            married   \n",
       "1         1         36  secondary education             1            married   \n",
       "2         0         33  secondary education             1            married   \n",
       "3         3         32  secondary education             1            married   \n",
       "4         0         53  secondary education             1  civil partnership   \n",
       "\n",
       "   family_status_id gender income_type  debt  total_income  \\\n",
       "0                 0      F    employee     0         40620   \n",
       "1                 0      F    employee     0         17932   \n",
       "2                 0      M    employee     0         23341   \n",
       "3                 0      M    employee     0         42820   \n",
       "4                 1      F     retiree     0         25378   \n",
       "\n",
       "                   purpose  \n",
       "0    purchase of the house  \n",
       "1             car purchase  \n",
       "2    purchase of the house  \n",
       "3  supplementary education  \n",
       "4        to have a wedding  "
      ]
     },
     "metadata": {},
     "output_type": "display_data"
    },
    {
     "name": "stdout",
     "output_type": "stream",
     "text": [
      "secondary education    15173\n",
      "bachelor's degree       5246\n",
      "some college             742\n",
      "primary education        282\n",
      "graduate degree            6\n",
      "Name: education, dtype: int64\n"
     ]
    }
   ],
   "source": [
    "df['education'] = df['education'].str.lower() # take all text to lowercase and delete duplicates \n",
    "display(df.head())\n",
    "print(df['education'].value_counts())"
   ]
  },
  {
   "cell_type": "markdown",
   "metadata": {},
   "source": [
    "### Conclusion"
   ]
  },
  {
   "cell_type": "markdown",
   "metadata": {},
   "source": [
    "For deleting duplicates, I used the str.lower() function on the 'education' column, which will take all the text format to lowercase, since the duplicates had the same names but in different formats of upper and lower cases. The str.lower() takes the string to lowercase and would join the similar strings together as we can see in the table. The categories are mentioned once and were merged. The duplicated could come up due to a text field that different employees fill manually. some could have the capslock activated, others could only type with lowercase some type with the first letter as caps. Therefore, that could be a convenient reason to have duplicated data."
   ]
  },
  {
   "cell_type": "markdown",
   "metadata": {},
   "source": [
    "### Categorizing Data"
   ]
  },
  {
   "cell_type": "code",
   "execution_count": 14,
   "metadata": {
    "scrolled": true
   },
   "outputs": [
    {
     "name": "stdout",
     "output_type": "stream",
     "text": [
      "Real Estate    10804\n",
      "Car             4299\n",
      "Education       4007\n",
      "Wedding         2339\n",
      "Name: purpose_cat, dtype: int64\n"
     ]
    }
   ],
   "source": [
    "def loan_cat(value): #define a function to categorize the data (text) that will come as a value to it\n",
    "    \n",
    "    if 'hous' in value or 'real' in value or 'property'in value:\n",
    "        return 'Real Estate'\n",
    "    elif 'educ' in value or 'university' in value:\n",
    "        return 'Education'\n",
    "    elif 'wedding' in value:\n",
    "        return 'Wedding'\n",
    "    elif 'car' in value:\n",
    "        return 'Car'\n",
    "    return 'undefined'\n",
    "\n",
    "df['purpose_cat'] = df['purpose'].apply(lambda value: loan_cat(value)) # taking the sentences from the df['purpose'] column and apply them to the loan_cat function and save the results in the df[purpose_cat] column\n",
    "print(df['purpose_cat'].value_counts()) #printing the values of the column and we can see that all the rows are categorized. "
   ]
  },
  {
   "cell_type": "code",
   "execution_count": 15,
   "metadata": {},
   "outputs": [
    {
     "name": "stdout",
     "output_type": "stream",
     "text": [
      "count     21449.000000\n",
      "mean      26434.989603\n",
      "std       15698.088216\n",
      "min        3306.000000\n",
      "25%       17243.000000\n",
      "50%       22815.000000\n",
      "75%       31285.000000\n",
      "max      362496.000000\n",
      "Name: total_income, dtype: float64\n"
     ]
    }
   ],
   "source": [
    "print(df['total_income'].describe())"
   ]
  },
  {
   "cell_type": "code",
   "execution_count": 16,
   "metadata": {},
   "outputs": [
    {
     "name": "stdout",
     "output_type": "stream",
     "text": [
      "Medium    9059\n",
      "Rich      8161\n",
      "Poor      4229\n",
      "Name: income_cat, dtype: int64\n"
     ]
    }
   ],
   "source": [
    "def income_cat(amount): #define function to categorise the level of living for people depending on their income\n",
    "    if amount < 15698:\n",
    "        return 'Poor'\n",
    "    elif amount < 26434:\n",
    "        return 'Medium'\n",
    "    else:\n",
    "        return 'Rich'\n",
    "df['income_cat'] = df['total_income'].apply(lambda amount: income_cat(amount))\n",
    "print(df['income_cat'].value_counts())"
   ]
  },
  {
   "cell_type": "code",
   "execution_count": 17,
   "metadata": {},
   "outputs": [
    {
     "data": {
      "text/html": [
       "<div>\n",
       "<style scoped>\n",
       "    .dataframe tbody tr th:only-of-type {\n",
       "        vertical-align: middle;\n",
       "    }\n",
       "\n",
       "    .dataframe tbody tr th {\n",
       "        vertical-align: top;\n",
       "    }\n",
       "\n",
       "    .dataframe thead th {\n",
       "        text-align: right;\n",
       "    }\n",
       "</style>\n",
       "<table border=\"1\" class=\"dataframe\">\n",
       "  <thead>\n",
       "    <tr style=\"text-align: right;\">\n",
       "      <th></th>\n",
       "      <th>children</th>\n",
       "      <th>dob_years</th>\n",
       "      <th>education</th>\n",
       "      <th>education_id</th>\n",
       "      <th>family_status</th>\n",
       "      <th>family_status_id</th>\n",
       "      <th>gender</th>\n",
       "      <th>income_type</th>\n",
       "      <th>debt</th>\n",
       "      <th>total_income</th>\n",
       "      <th>purpose</th>\n",
       "      <th>purpose_cat</th>\n",
       "      <th>income_cat</th>\n",
       "    </tr>\n",
       "  </thead>\n",
       "  <tbody>\n",
       "    <tr>\n",
       "      <td>0</td>\n",
       "      <td>1</td>\n",
       "      <td>42</td>\n",
       "      <td>bachelor's degree</td>\n",
       "      <td>0</td>\n",
       "      <td>married</td>\n",
       "      <td>0</td>\n",
       "      <td>F</td>\n",
       "      <td>employee</td>\n",
       "      <td>0</td>\n",
       "      <td>40620</td>\n",
       "      <td>purchase of the house</td>\n",
       "      <td>Real Estate</td>\n",
       "      <td>Rich</td>\n",
       "    </tr>\n",
       "    <tr>\n",
       "      <td>1</td>\n",
       "      <td>1</td>\n",
       "      <td>36</td>\n",
       "      <td>secondary education</td>\n",
       "      <td>1</td>\n",
       "      <td>married</td>\n",
       "      <td>0</td>\n",
       "      <td>F</td>\n",
       "      <td>employee</td>\n",
       "      <td>0</td>\n",
       "      <td>17932</td>\n",
       "      <td>car purchase</td>\n",
       "      <td>Car</td>\n",
       "      <td>Medium</td>\n",
       "    </tr>\n",
       "    <tr>\n",
       "      <td>2</td>\n",
       "      <td>0</td>\n",
       "      <td>33</td>\n",
       "      <td>secondary education</td>\n",
       "      <td>1</td>\n",
       "      <td>married</td>\n",
       "      <td>0</td>\n",
       "      <td>M</td>\n",
       "      <td>employee</td>\n",
       "      <td>0</td>\n",
       "      <td>23341</td>\n",
       "      <td>purchase of the house</td>\n",
       "      <td>Real Estate</td>\n",
       "      <td>Medium</td>\n",
       "    </tr>\n",
       "    <tr>\n",
       "      <td>3</td>\n",
       "      <td>3</td>\n",
       "      <td>32</td>\n",
       "      <td>secondary education</td>\n",
       "      <td>1</td>\n",
       "      <td>married</td>\n",
       "      <td>0</td>\n",
       "      <td>M</td>\n",
       "      <td>employee</td>\n",
       "      <td>0</td>\n",
       "      <td>42820</td>\n",
       "      <td>supplementary education</td>\n",
       "      <td>Education</td>\n",
       "      <td>Rich</td>\n",
       "    </tr>\n",
       "    <tr>\n",
       "      <td>4</td>\n",
       "      <td>0</td>\n",
       "      <td>53</td>\n",
       "      <td>secondary education</td>\n",
       "      <td>1</td>\n",
       "      <td>civil partnership</td>\n",
       "      <td>1</td>\n",
       "      <td>F</td>\n",
       "      <td>retiree</td>\n",
       "      <td>0</td>\n",
       "      <td>25378</td>\n",
       "      <td>to have a wedding</td>\n",
       "      <td>Wedding</td>\n",
       "      <td>Medium</td>\n",
       "    </tr>\n",
       "    <tr>\n",
       "      <td>5</td>\n",
       "      <td>0</td>\n",
       "      <td>27</td>\n",
       "      <td>bachelor's degree</td>\n",
       "      <td>0</td>\n",
       "      <td>civil partnership</td>\n",
       "      <td>1</td>\n",
       "      <td>M</td>\n",
       "      <td>business</td>\n",
       "      <td>0</td>\n",
       "      <td>40922</td>\n",
       "      <td>purchase of the house</td>\n",
       "      <td>Real Estate</td>\n",
       "      <td>Rich</td>\n",
       "    </tr>\n",
       "    <tr>\n",
       "      <td>6</td>\n",
       "      <td>0</td>\n",
       "      <td>43</td>\n",
       "      <td>bachelor's degree</td>\n",
       "      <td>0</td>\n",
       "      <td>married</td>\n",
       "      <td>0</td>\n",
       "      <td>F</td>\n",
       "      <td>business</td>\n",
       "      <td>0</td>\n",
       "      <td>38484</td>\n",
       "      <td>housing transactions</td>\n",
       "      <td>Real Estate</td>\n",
       "      <td>Rich</td>\n",
       "    </tr>\n",
       "    <tr>\n",
       "      <td>7</td>\n",
       "      <td>0</td>\n",
       "      <td>50</td>\n",
       "      <td>secondary education</td>\n",
       "      <td>1</td>\n",
       "      <td>married</td>\n",
       "      <td>0</td>\n",
       "      <td>M</td>\n",
       "      <td>employee</td>\n",
       "      <td>0</td>\n",
       "      <td>21731</td>\n",
       "      <td>education</td>\n",
       "      <td>Education</td>\n",
       "      <td>Medium</td>\n",
       "    </tr>\n",
       "    <tr>\n",
       "      <td>8</td>\n",
       "      <td>2</td>\n",
       "      <td>35</td>\n",
       "      <td>bachelor's degree</td>\n",
       "      <td>0</td>\n",
       "      <td>civil partnership</td>\n",
       "      <td>1</td>\n",
       "      <td>F</td>\n",
       "      <td>employee</td>\n",
       "      <td>0</td>\n",
       "      <td>15337</td>\n",
       "      <td>having a wedding</td>\n",
       "      <td>Wedding</td>\n",
       "      <td>Poor</td>\n",
       "    </tr>\n",
       "    <tr>\n",
       "      <td>9</td>\n",
       "      <td>0</td>\n",
       "      <td>41</td>\n",
       "      <td>secondary education</td>\n",
       "      <td>1</td>\n",
       "      <td>married</td>\n",
       "      <td>0</td>\n",
       "      <td>M</td>\n",
       "      <td>employee</td>\n",
       "      <td>0</td>\n",
       "      <td>23108</td>\n",
       "      <td>purchase of the house for my family</td>\n",
       "      <td>Real Estate</td>\n",
       "      <td>Medium</td>\n",
       "    </tr>\n",
       "  </tbody>\n",
       "</table>\n",
       "</div>"
      ],
      "text/plain": [
       "   children  dob_years            education  education_id      family_status  \\\n",
       "0         1         42    bachelor's degree             0            married   \n",
       "1         1         36  secondary education             1            married   \n",
       "2         0         33  secondary education             1            married   \n",
       "3         3         32  secondary education             1            married   \n",
       "4         0         53  secondary education             1  civil partnership   \n",
       "5         0         27    bachelor's degree             0  civil partnership   \n",
       "6         0         43    bachelor's degree             0            married   \n",
       "7         0         50  secondary education             1            married   \n",
       "8         2         35    bachelor's degree             0  civil partnership   \n",
       "9         0         41  secondary education             1            married   \n",
       "\n",
       "   family_status_id gender income_type  debt  total_income  \\\n",
       "0                 0      F    employee     0         40620   \n",
       "1                 0      F    employee     0         17932   \n",
       "2                 0      M    employee     0         23341   \n",
       "3                 0      M    employee     0         42820   \n",
       "4                 1      F     retiree     0         25378   \n",
       "5                 1      M    business     0         40922   \n",
       "6                 0      F    business     0         38484   \n",
       "7                 0      M    employee     0         21731   \n",
       "8                 1      F    employee     0         15337   \n",
       "9                 0      M    employee     0         23108   \n",
       "\n",
       "                               purpose  purpose_cat income_cat  \n",
       "0                purchase of the house  Real Estate       Rich  \n",
       "1                         car purchase          Car     Medium  \n",
       "2                purchase of the house  Real Estate     Medium  \n",
       "3              supplementary education    Education       Rich  \n",
       "4                    to have a wedding      Wedding     Medium  \n",
       "5                purchase of the house  Real Estate       Rich  \n",
       "6                 housing transactions  Real Estate       Rich  \n",
       "7                            education    Education     Medium  \n",
       "8                     having a wedding      Wedding       Poor  \n",
       "9  purchase of the house for my family  Real Estate     Medium  "
      ]
     },
     "execution_count": 17,
     "metadata": {},
     "output_type": "execute_result"
    }
   ],
   "source": [
    "df.head(10)"
   ]
  },
  {
   "cell_type": "markdown",
   "metadata": {},
   "source": [
    "### Conclusion"
   ]
  },
  {
   "cell_type": "markdown",
   "metadata": {},
   "source": [
    "Checking through the 'purpose' column there are a lot of similar purposes for loans but, with a different type of text. most of the time it is written in a sentence and not in one word. we cannot categorize this data as we did in the 'education' column simply because the sentences are not similar from a text perspective. Therefore, we need to find a common word between sentences so, it will allow us to categorize the data in the column.\n",
    "\n",
    "I created a function, 'loan_cat' that will check if the sentences in the column contain certain words. The function contains an if statement that will return at the end a result of 4 categories: Real Estate, Car, Education, and Wedding. \n",
    "\n",
    "The results would be saved in the 'purpose_cat' column after applying the 'total_income' column to the function 'loan_cat'.\n",
    "\n",
    "The next column I categorized as the 'total_income'. I printed the description for the values in the 'total_income', and I compared the results with small google research about the minimum wage in general. The amount that I found was close to the std amount in the description table, and the medium wage was also similar to the mean in the table. \n",
    "Therefore, I created an if statement to check the amount of the 'total_income' in each row and gives the category output in the new column 'income_cat'."
   ]
  },
  {
   "cell_type": "markdown",
   "metadata": {},
   "source": [
    "## Answer these questions"
   ]
  },
  {
   "cell_type": "markdown",
   "metadata": {},
   "source": [
    "- Is there a relation between having kids and repaying a loan on time?"
   ]
  },
  {
   "cell_type": "code",
   "execution_count": 18,
   "metadata": {
    "scrolled": true
   },
   "outputs": [
    {
     "data": {
      "text/html": [
       "<div>\n",
       "<style scoped>\n",
       "    .dataframe tbody tr th:only-of-type {\n",
       "        vertical-align: middle;\n",
       "    }\n",
       "\n",
       "    .dataframe tbody tr th {\n",
       "        vertical-align: top;\n",
       "    }\n",
       "\n",
       "    .dataframe thead th {\n",
       "        text-align: right;\n",
       "    }\n",
       "</style>\n",
       "<table border=\"1\" class=\"dataframe\">\n",
       "  <thead>\n",
       "    <tr style=\"text-align: right;\">\n",
       "      <th>debt</th>\n",
       "      <th>children</th>\n",
       "      <th>0</th>\n",
       "      <th>1</th>\n",
       "      <th>All</th>\n",
       "      <th>ratio</th>\n",
       "    </tr>\n",
       "  </thead>\n",
       "  <tbody>\n",
       "    <tr>\n",
       "      <td>0</td>\n",
       "      <td>0</td>\n",
       "      <td>13086.0</td>\n",
       "      <td>1063.0</td>\n",
       "      <td>14149</td>\n",
       "      <td>7.512898</td>\n",
       "    </tr>\n",
       "    <tr>\n",
       "      <td>1</td>\n",
       "      <td>1</td>\n",
       "      <td>4420.0</td>\n",
       "      <td>445.0</td>\n",
       "      <td>4865</td>\n",
       "      <td>9.146968</td>\n",
       "    </tr>\n",
       "    <tr>\n",
       "      <td>2</td>\n",
       "      <td>2</td>\n",
       "      <td>1861.0</td>\n",
       "      <td>194.0</td>\n",
       "      <td>2055</td>\n",
       "      <td>9.440389</td>\n",
       "    </tr>\n",
       "    <tr>\n",
       "      <td>3</td>\n",
       "      <td>3</td>\n",
       "      <td>303.0</td>\n",
       "      <td>27.0</td>\n",
       "      <td>330</td>\n",
       "      <td>8.181818</td>\n",
       "    </tr>\n",
       "    <tr>\n",
       "      <td>4</td>\n",
       "      <td>4</td>\n",
       "      <td>37.0</td>\n",
       "      <td>4.0</td>\n",
       "      <td>41</td>\n",
       "      <td>9.756098</td>\n",
       "    </tr>\n",
       "    <tr>\n",
       "      <td>5</td>\n",
       "      <td>5</td>\n",
       "      <td>9.0</td>\n",
       "      <td>NaN</td>\n",
       "      <td>9</td>\n",
       "      <td>NaN</td>\n",
       "    </tr>\n",
       "    <tr>\n",
       "      <td>6</td>\n",
       "      <td>All</td>\n",
       "      <td>19716.0</td>\n",
       "      <td>1733.0</td>\n",
       "      <td>21449</td>\n",
       "      <td>8.079631</td>\n",
       "    </tr>\n",
       "  </tbody>\n",
       "</table>\n",
       "</div>"
      ],
      "text/plain": [
       "debt children        0       1    All     ratio\n",
       "0           0  13086.0  1063.0  14149  7.512898\n",
       "1           1   4420.0   445.0   4865  9.146968\n",
       "2           2   1861.0   194.0   2055  9.440389\n",
       "3           3    303.0    27.0    330  8.181818\n",
       "4           4     37.0     4.0     41  9.756098\n",
       "5           5      9.0     NaN      9       NaN\n",
       "6         All  19716.0  1733.0  21449  8.079631"
      ]
     },
     "execution_count": 18,
     "metadata": {},
     "output_type": "execute_result"
    }
   ],
   "source": [
    "pivot_1= pd.pivot_table(df, index ='children', columns='debt', values='family_status_id', aggfunc='count', margins= True).reset_index()\n",
    "pivot_1['ratio']= pivot_1[1] / pivot_1['All']*100\n",
    "pivot_1"
   ]
  },
  {
   "cell_type": "markdown",
   "metadata": {},
   "source": [
    "### Conclusion"
   ]
  },
  {
   "cell_type": "markdown",
   "metadata": {},
   "source": [
    "The relation between paying the loan on time and having kids as shown in the table above, the lowest percentage of people that are not repaying the loan on time, they are the families who have no children with the percentage of 7.51%. Where is the average, in general, is 8.07%. And the highest percentage of families who don't repay the loan on time are the families who have 4 children with a percentage of 9.75%. \n",
    "\n",
    "Therefore, it is clear that families have fewer children of none have a higher chance to repay the loan on time. "
   ]
  },
  {
   "cell_type": "markdown",
   "metadata": {},
   "source": [
    "- Is there a relation between marital status and repaying a loan on time?"
   ]
  },
  {
   "cell_type": "code",
   "execution_count": 19,
   "metadata": {},
   "outputs": [
    {
     "data": {
      "text/html": [
       "<div>\n",
       "<style scoped>\n",
       "    .dataframe tbody tr th:only-of-type {\n",
       "        vertical-align: middle;\n",
       "    }\n",
       "\n",
       "    .dataframe tbody tr th {\n",
       "        vertical-align: top;\n",
       "    }\n",
       "\n",
       "    .dataframe thead th {\n",
       "        text-align: right;\n",
       "    }\n",
       "</style>\n",
       "<table border=\"1\" class=\"dataframe\">\n",
       "  <thead>\n",
       "    <tr style=\"text-align: right;\">\n",
       "      <th>debt</th>\n",
       "      <th>family_status</th>\n",
       "      <th>0</th>\n",
       "      <th>1</th>\n",
       "      <th>All</th>\n",
       "      <th>ratio</th>\n",
       "    </tr>\n",
       "  </thead>\n",
       "  <tbody>\n",
       "    <tr>\n",
       "      <td>0</td>\n",
       "      <td>civil partnership</td>\n",
       "      <td>3780</td>\n",
       "      <td>385</td>\n",
       "      <td>4165</td>\n",
       "      <td>9.243697</td>\n",
       "    </tr>\n",
       "    <tr>\n",
       "      <td>1</td>\n",
       "      <td>divorced</td>\n",
       "      <td>1109</td>\n",
       "      <td>84</td>\n",
       "      <td>1193</td>\n",
       "      <td>7.041073</td>\n",
       "    </tr>\n",
       "    <tr>\n",
       "      <td>2</td>\n",
       "      <td>married</td>\n",
       "      <td>11403</td>\n",
       "      <td>928</td>\n",
       "      <td>12331</td>\n",
       "      <td>7.525748</td>\n",
       "    </tr>\n",
       "    <tr>\n",
       "      <td>3</td>\n",
       "      <td>unmarried</td>\n",
       "      <td>2531</td>\n",
       "      <td>273</td>\n",
       "      <td>2804</td>\n",
       "      <td>9.736091</td>\n",
       "    </tr>\n",
       "    <tr>\n",
       "      <td>4</td>\n",
       "      <td>widow / widower</td>\n",
       "      <td>893</td>\n",
       "      <td>63</td>\n",
       "      <td>956</td>\n",
       "      <td>6.589958</td>\n",
       "    </tr>\n",
       "    <tr>\n",
       "      <td>5</td>\n",
       "      <td>All</td>\n",
       "      <td>19716</td>\n",
       "      <td>1733</td>\n",
       "      <td>21449</td>\n",
       "      <td>8.079631</td>\n",
       "    </tr>\n",
       "  </tbody>\n",
       "</table>\n",
       "</div>"
      ],
      "text/plain": [
       "debt      family_status      0     1    All     ratio\n",
       "0     civil partnership   3780   385   4165  9.243697\n",
       "1              divorced   1109    84   1193  7.041073\n",
       "2               married  11403   928  12331  7.525748\n",
       "3             unmarried   2531   273   2804  9.736091\n",
       "4       widow / widower    893    63    956  6.589958\n",
       "5                   All  19716  1733  21449  8.079631"
      ]
     },
     "metadata": {},
     "output_type": "display_data"
    }
   ],
   "source": [
    "pivot_2= pd.pivot_table(df, index ='family_status', columns='debt', values='dob_years', aggfunc='count', margins= True).reset_index()\n",
    "pivot_2['ratio']= (pivot_2[1] / pivot_2['All'])*100\n",
    "display(pivot_2)"
   ]
  },
  {
   "cell_type": "markdown",
   "metadata": {},
   "source": [
    "### Conclusion"
   ]
  },
  {
   "cell_type": "markdown",
   "metadata": {},
   "source": [
    "The total average of paying the loan on time and family status is 8.07%. The highest amount of people who wouldn't repay the loan on time are the people who are unmarried with the highest percentage of 9.73%. While the lowest percentage of 6.56% for people who repay their loan is a widow or a widower.\n",
    "\n",
    "we can see from this that people who have fewer responsibilities are more irresponsible about repaying the loan meanwhile, people with life responsibilities have a higher percentage to repay the loan on time. "
   ]
  },
  {
   "cell_type": "markdown",
   "metadata": {},
   "source": [
    "- Is there a relation between income level and repaying a loan on time?"
   ]
  },
  {
   "cell_type": "code",
   "execution_count": 20,
   "metadata": {},
   "outputs": [
    {
     "data": {
      "text/html": [
       "<div>\n",
       "<style scoped>\n",
       "    .dataframe tbody tr th:only-of-type {\n",
       "        vertical-align: middle;\n",
       "    }\n",
       "\n",
       "    .dataframe tbody tr th {\n",
       "        vertical-align: top;\n",
       "    }\n",
       "\n",
       "    .dataframe thead th {\n",
       "        text-align: right;\n",
       "    }\n",
       "</style>\n",
       "<table border=\"1\" class=\"dataframe\">\n",
       "  <thead>\n",
       "    <tr style=\"text-align: right;\">\n",
       "      <th>debt</th>\n",
       "      <th>income_cat</th>\n",
       "      <th>0</th>\n",
       "      <th>1</th>\n",
       "      <th>All</th>\n",
       "      <th>ratio</th>\n",
       "    </tr>\n",
       "  </thead>\n",
       "  <tbody>\n",
       "    <tr>\n",
       "      <td>0</td>\n",
       "      <td>Medium</td>\n",
       "      <td>8288</td>\n",
       "      <td>771</td>\n",
       "      <td>9059</td>\n",
       "      <td>8.510873</td>\n",
       "    </tr>\n",
       "    <tr>\n",
       "      <td>1</td>\n",
       "      <td>Poor</td>\n",
       "      <td>3887</td>\n",
       "      <td>342</td>\n",
       "      <td>4229</td>\n",
       "      <td>8.087018</td>\n",
       "    </tr>\n",
       "    <tr>\n",
       "      <td>2</td>\n",
       "      <td>Rich</td>\n",
       "      <td>7541</td>\n",
       "      <td>620</td>\n",
       "      <td>8161</td>\n",
       "      <td>7.597108</td>\n",
       "    </tr>\n",
       "    <tr>\n",
       "      <td>3</td>\n",
       "      <td>All</td>\n",
       "      <td>19716</td>\n",
       "      <td>1733</td>\n",
       "      <td>21449</td>\n",
       "      <td>8.079631</td>\n",
       "    </tr>\n",
       "  </tbody>\n",
       "</table>\n",
       "</div>"
      ],
      "text/plain": [
       "debt income_cat      0     1    All     ratio\n",
       "0        Medium   8288   771   9059  8.510873\n",
       "1          Poor   3887   342   4229  8.087018\n",
       "2          Rich   7541   620   8161  7.597108\n",
       "3           All  19716  1733  21449  8.079631"
      ]
     },
     "metadata": {},
     "output_type": "display_data"
    }
   ],
   "source": [
    "pivot_3= pd.pivot_table(df, index ='income_cat', columns='debt', values='income_type', aggfunc='count', margins= True).reset_index()\n",
    "pivot_3['ratio']= pivot_3[1] / pivot_3['All']*100\n",
    "display(pivot_3)"
   ]
  },
  {
   "cell_type": "markdown",
   "metadata": {},
   "source": [
    "### Conclusion"
   ]
  },
  {
   "cell_type": "markdown",
   "metadata": {},
   "source": [
    "Categorizing the income made it clearer for us to understand the people level who would repay the loan on time. regarding the table, an interesting result shows that the percentage of the medium class would have a higher rate than the poor class in not repaying the loan in time by almost 0.5%. \n",
    "\n",
    "If we look at the bigger image we won't see a huge difference between the percentages of the three categories the biggest difference between them is still less than 1%. Therefore, The people's life level is less making an effect on the loan repayment."
   ]
  },
  {
   "cell_type": "markdown",
   "metadata": {},
   "source": [
    "- How do different loan purposes affect on-time repayment of the loan?"
   ]
  },
  {
   "cell_type": "code",
   "execution_count": 21,
   "metadata": {},
   "outputs": [
    {
     "data": {
      "text/html": [
       "<div>\n",
       "<style scoped>\n",
       "    .dataframe tbody tr th:only-of-type {\n",
       "        vertical-align: middle;\n",
       "    }\n",
       "\n",
       "    .dataframe tbody tr th {\n",
       "        vertical-align: top;\n",
       "    }\n",
       "\n",
       "    .dataframe thead th {\n",
       "        text-align: right;\n",
       "    }\n",
       "</style>\n",
       "<table border=\"1\" class=\"dataframe\">\n",
       "  <thead>\n",
       "    <tr style=\"text-align: right;\">\n",
       "      <th>debt</th>\n",
       "      <th>purpose_cat</th>\n",
       "      <th>0</th>\n",
       "      <th>1</th>\n",
       "      <th>All</th>\n",
       "      <th>ratio</th>\n",
       "    </tr>\n",
       "  </thead>\n",
       "  <tbody>\n",
       "    <tr>\n",
       "      <td>0</td>\n",
       "      <td>Car</td>\n",
       "      <td>3898</td>\n",
       "      <td>401</td>\n",
       "      <td>4299</td>\n",
       "      <td>9.327751</td>\n",
       "    </tr>\n",
       "    <tr>\n",
       "      <td>1</td>\n",
       "      <td>Education</td>\n",
       "      <td>3638</td>\n",
       "      <td>369</td>\n",
       "      <td>4007</td>\n",
       "      <td>9.208884</td>\n",
       "    </tr>\n",
       "    <tr>\n",
       "      <td>2</td>\n",
       "      <td>Real Estate</td>\n",
       "      <td>10024</td>\n",
       "      <td>780</td>\n",
       "      <td>10804</td>\n",
       "      <td>7.219548</td>\n",
       "    </tr>\n",
       "    <tr>\n",
       "      <td>3</td>\n",
       "      <td>Wedding</td>\n",
       "      <td>2156</td>\n",
       "      <td>183</td>\n",
       "      <td>2339</td>\n",
       "      <td>7.823856</td>\n",
       "    </tr>\n",
       "    <tr>\n",
       "      <td>4</td>\n",
       "      <td>All</td>\n",
       "      <td>19716</td>\n",
       "      <td>1733</td>\n",
       "      <td>21449</td>\n",
       "      <td>8.079631</td>\n",
       "    </tr>\n",
       "  </tbody>\n",
       "</table>\n",
       "</div>"
      ],
      "text/plain": [
       "debt  purpose_cat      0     1    All     ratio\n",
       "0             Car   3898   401   4299  9.327751\n",
       "1       Education   3638   369   4007  9.208884\n",
       "2     Real Estate  10024   780  10804  7.219548\n",
       "3         Wedding   2156   183   2339  7.823856\n",
       "4             All  19716  1733  21449  8.079631"
      ]
     },
     "metadata": {},
     "output_type": "display_data"
    }
   ],
   "source": [
    "pivot_4= pd.pivot_table(df, index ='purpose_cat', columns='debt', values='total_income', aggfunc='count', margins= True).reset_index()\n",
    "pivot_4['ratio']= pivot_4[1] / pivot_4['All']*100\n",
    "display(pivot_4)"
   ]
  },
  {
   "cell_type": "markdown",
   "metadata": {},
   "source": [
    "### Conclusion"
   ]
  },
  {
   "cell_type": "markdown",
   "metadata": {},
   "source": [
    "The shows how the purpose of the loan would affect the time of repaying the loan. The total average of all purposes is 8.07%. While the highest percentage is 9.32% for loans that go to cars, those are harder to repay the loan on time. The lowest percentage goes to Real Estate. \n",
    "Weddings and Real Estate are getting repaid better than Cars and Education. Again, I think that is all related to Age and the responsibility that people have. "
   ]
  },
  {
   "cell_type": "markdown",
   "metadata": {},
   "source": [
    "## General conclusion"
   ]
  },
  {
   "cell_type": "markdown",
   "metadata": {},
   "source": [
    "In this project, I checked the file of the data frame to understand the type of data that I need to work with and what kind of information I can pull out of it.  I started to read the general information about the data frame, where I noticed the missing values for the 'days_employed' and 'total_income' columns. \n",
    "\n",
    "After taking notes about those two columns, I checked the data frame for any 0 values and if they are relevant to where they exist. Meaning it was relevant to find them in the 'children' column, but irrelevant to find them in the 'dob_year' column. I made a research on all the columns and I found out the following: \n",
    "The data of the column 'days_employed' is messy and irrelevant to the project.\n",
    "the 'total_income' has missing values.\n",
    "'dob_years' column has 0 values and it needs to be replaced.\n",
    "The 'education' column, has a lot of duplicated and unorganized text formats.\n",
    "There is a negative value in the 'children' column, and that's irrelevant. \n",
    "First, I dropped the 'days_employed' column from the data frame, since it has no use in this project. The data could be fixed although, it would be still not relevant to the project tasks. This type of data should be reported to the engineers to understand that there might be something wrong since it has a lot of messy information and is not clear. \n",
    "Next, I filled the missing values in the 'total_income' column by the median of the 'income_type'. That means if the work is civil servant, the missing value for a civil servant would be the median of all the civil servant incomes of the non-missing values. That also applied to all the 'income_type' categories. \n",
    "\n",
    "I calculated the mean of the 'dob_years' and I replaced the 0 values with it. \n",
    "The negative value in the 'children' column I replaced with the 1 value because apparently, the value was a typo during the data entry.\n",
    " Now I finished the data preprocessing, but I checked once again if there are any missing values, and regarding the results, there were no missing values. \n",
    "The 'total_income' is a 'float64' data type, I converted it to an integer by using the astype() method. Converting the column to an integer would make it easier to read and to work within the matter of calculations. \n",
    "As I said before, the 'education ' had a lot of duplicated data and messy text formats. Therefore, I applied the str. lower() method that would take all the strings to a lowercase text and will combine the duplicates. So, I ended up having 5 categories only in the 'education' column.\n",
    "After cleaning the data and filling in the missing values, I needed to categorize the following columns:\n",
    "'purpose' column: The loan purpose column contains sentences that tell what is the reason for getting a loan. The problem here is the similarity in the purpose but not in the text. However, there are common words that I could notice between the purposes. \n",
    "'income_total' column: The income column has a huge range between the numbers of income. That makes it hard to have a clearer image of the effects of income on the loan. Therefore, the best way is to have small and specific categories for certain ranges in income. \n",
    "In the 'purpose' column I applied a function to read the text from it and compare the text if it has certain words in it. I used the If statement, I saw it easier and faster to build, since we don't have a huge amount of text. Then the results were saved on the 'purpose_cat' column. The result was 4 categories: Real Estate, Car, Education and Wedding. \n",
    "\n",
    "I made a small research on google to know more about the general amount of minimum wage. That to help me categorize the 'total_income' column. However, I also printed the describe() table of the column. Therefore, I can get to know more about the content. The minimum wage was close enough to the std in the table, and the medium wage was relevant to the mean amount in the table. Therefore, I made an if statement to check the 'total income' and categorize it by either: Poor, Medium, or Rich, and it was saved on the 'income_cat' column. \n",
    "\n",
    "Now we have a clean data set and categorized, for the last section I needed to answer some questions to analyze the data. \n",
    "In all those questions, I used the Pivot table, to check relations between values in different columns. Then I calculated the ratio to get the actual percentage.\n",
    " I will answer the questions briefly here since I answered them in detail in the previous section. \n",
    "\n",
    "The Questions:  \n",
    "Is there a relation between having kids and repaying a loan on time?\n",
    "\n",
    "Families with 4 children have a percentage of 9.75% to not pay on time. \n",
    "Families with no children have a percentage of 7.51% to not pay on time.\n",
    "\n",
    "Is there a relation between marital status and repaying a loan on time?\n",
    "\n",
    "Unmarried with the highest percentage of 9.73% to not pay on time.\n",
    "A widow or a widower with the lowest percentage of 6.56% to not pay on time.\n",
    "\n",
    "Is there a relation between income level and repaying a loan on time?\n",
    "\n",
    "The medium level has the highest percentage to not pay on time 8.51%\n",
    "The rich level has the lowest percentage to not pay on time 7.59%\n",
    "\n",
    "How do different loan purposes affect on-time repayment of the loan?\n",
    "\n",
    "The Car purpose has 9.32% chance to not pay the loan on time\n",
    "The real estate purpose has 7.21% chance to not pay the loan on time. \n"
   ]
  }
 ],
 "metadata": {
  "ExecuteTimeLog": [
   {
    "duration": 88,
    "start_time": "2021-10-09T02:22:53.651Z"
   },
   {
    "duration": 1155,
    "start_time": "2021-10-09T02:23:01.943Z"
   },
   {
    "duration": 317,
    "start_time": "2021-10-09T02:24:33.898Z"
   },
   {
    "duration": 273,
    "start_time": "2021-10-09T02:24:58.300Z"
   },
   {
    "duration": 306,
    "start_time": "2021-10-09T02:25:23.113Z"
   },
   {
    "duration": 2100,
    "start_time": "2021-10-09T02:26:29.192Z"
   },
   {
    "duration": 2026,
    "start_time": "2021-10-09T02:27:04.319Z"
   },
   {
    "duration": 6808,
    "start_time": "2021-10-09T02:27:54.964Z"
   },
   {
    "duration": 2060,
    "start_time": "2021-10-09T02:31:17.126Z"
   },
   {
    "duration": 372,
    "start_time": "2021-10-09T02:31:59.934Z"
   },
   {
    "duration": 67,
    "start_time": "2021-10-09T02:32:15.642Z"
   },
   {
    "duration": 785,
    "start_time": "2021-10-09T02:32:38.840Z"
   },
   {
    "duration": 72,
    "start_time": "2021-10-09T02:36:17.935Z"
   },
   {
    "duration": 67,
    "start_time": "2021-10-09T03:33:06.579Z"
   },
   {
    "duration": 776,
    "start_time": "2021-10-09T03:38:36.450Z"
   },
   {
    "duration": 64,
    "start_time": "2021-10-09T03:39:47.648Z"
   },
   {
    "duration": 28,
    "start_time": "2021-10-09T03:45:32.902Z"
   },
   {
    "duration": 427,
    "start_time": "2021-10-09T03:53:12.134Z"
   },
   {
    "duration": 287,
    "start_time": "2021-10-09T03:55:51.253Z"
   },
   {
    "duration": 301,
    "start_time": "2021-10-09T03:56:02.649Z"
   },
   {
    "duration": 283,
    "start_time": "2021-10-09T03:59:37.432Z"
   },
   {
    "duration": 331,
    "start_time": "2021-10-09T04:01:40.765Z"
   },
   {
    "duration": 991,
    "start_time": "2021-10-09T04:02:02.547Z"
   },
   {
    "duration": 29,
    "start_time": "2021-10-09T04:02:05.973Z"
   },
   {
    "duration": 768,
    "start_time": "2021-10-09T04:02:20.851Z"
   },
   {
    "duration": 29,
    "start_time": "2021-10-09T04:02:24.138Z"
   },
   {
    "duration": 23,
    "start_time": "2021-10-09T04:07:46.295Z"
   },
   {
    "duration": 23,
    "start_time": "2021-10-09T04:08:11.490Z"
   },
   {
    "duration": 25,
    "start_time": "2021-10-09T04:14:48.951Z"
   },
   {
    "duration": 386,
    "start_time": "2021-10-09T04:18:15.432Z"
   },
   {
    "duration": 18,
    "start_time": "2021-10-09T04:21:17.428Z"
   },
   {
    "duration": 1359,
    "start_time": "2021-10-09T04:34:50.977Z"
   },
   {
    "duration": 26,
    "start_time": "2021-10-09T04:35:17.612Z"
   },
   {
    "duration": 290,
    "start_time": "2021-10-09T04:38:54.914Z"
   },
   {
    "duration": 293,
    "start_time": "2021-10-09T04:40:19.418Z"
   },
   {
    "duration": 290,
    "start_time": "2021-10-09T04:40:26.605Z"
   },
   {
    "duration": 23,
    "start_time": "2021-10-09T04:40:38.444Z"
   },
   {
    "duration": 294,
    "start_time": "2021-10-09T04:41:35.403Z"
   },
   {
    "duration": 345,
    "start_time": "2021-10-09T04:44:00.651Z"
   },
   {
    "duration": 660,
    "start_time": "2021-10-09T04:44:41.920Z"
   },
   {
    "duration": 784,
    "start_time": "2021-10-09T04:46:05.341Z"
   },
   {
    "duration": 642,
    "start_time": "2021-10-09T04:49:41.848Z"
   },
   {
    "duration": 302,
    "start_time": "2021-10-09T04:50:40.313Z"
   },
   {
    "duration": 275,
    "start_time": "2021-10-09T04:51:05.525Z"
   },
   {
    "duration": 5,
    "start_time": "2021-10-09T04:51:50.003Z"
   },
   {
    "duration": 7,
    "start_time": "2021-10-09T04:52:15.118Z"
   },
   {
    "duration": 277,
    "start_time": "2021-10-09T04:55:35.490Z"
   },
   {
    "duration": 267,
    "start_time": "2021-10-09T05:03:39.820Z"
   },
   {
    "duration": 277,
    "start_time": "2021-10-09T05:14:17.533Z"
   },
   {
    "duration": 8,
    "start_time": "2021-10-09T05:14:28.992Z"
   },
   {
    "duration": 24,
    "start_time": "2021-10-09T05:14:55.191Z"
   },
   {
    "duration": 1124,
    "start_time": "2021-10-09T05:15:30.084Z"
   },
   {
    "duration": 19,
    "start_time": "2021-10-09T05:16:31.741Z"
   },
   {
    "duration": 1078,
    "start_time": "2021-10-09T05:16:55.285Z"
   },
   {
    "duration": 1056,
    "start_time": "2021-10-09T05:17:14.977Z"
   },
   {
    "duration": 18,
    "start_time": "2021-10-09T05:17:50.532Z"
   },
   {
    "duration": 1127,
    "start_time": "2021-10-09T05:18:02.336Z"
   },
   {
    "duration": 20,
    "start_time": "2021-10-09T05:18:24.440Z"
   },
   {
    "duration": 1146,
    "start_time": "2021-10-09T05:18:39.026Z"
   },
   {
    "duration": 1303,
    "start_time": "2021-10-09T05:18:57.931Z"
   },
   {
    "duration": 1734,
    "start_time": "2021-10-09T05:19:25.843Z"
   },
   {
    "duration": 70,
    "start_time": "2021-10-09T05:19:51.713Z"
   },
   {
    "duration": 1089,
    "start_time": "2021-10-09T05:22:22.989Z"
   },
   {
    "duration": 1676,
    "start_time": "2021-10-09T05:22:31.803Z"
   },
   {
    "duration": 1357,
    "start_time": "2021-10-09T05:22:57.434Z"
   },
   {
    "duration": 366,
    "start_time": "2021-10-09T05:27:25.906Z"
   },
   {
    "duration": 58,
    "start_time": "2021-10-09T05:27:56.140Z"
   },
   {
    "duration": 285,
    "start_time": "2021-10-09T05:29:35.299Z"
   },
   {
    "duration": 57,
    "start_time": "2021-10-09T05:29:52.641Z"
   },
   {
    "duration": 59,
    "start_time": "2021-10-09T05:31:16.227Z"
   },
   {
    "duration": 287,
    "start_time": "2021-10-09T05:31:40.736Z"
   },
   {
    "duration": 1275,
    "start_time": "2021-10-09T05:31:56.421Z"
   },
   {
    "duration": 13,
    "start_time": "2021-10-09T05:32:06.202Z"
   },
   {
    "duration": 15,
    "start_time": "2021-10-09T05:35:36.970Z"
   },
   {
    "duration": 11,
    "start_time": "2021-10-09T05:35:48.503Z"
   },
   {
    "duration": 11,
    "start_time": "2021-10-09T05:36:01.100Z"
   },
   {
    "duration": 12,
    "start_time": "2021-10-09T05:36:08.394Z"
   },
   {
    "duration": 11,
    "start_time": "2021-10-09T05:36:19.153Z"
   },
   {
    "duration": 842,
    "start_time": "2021-10-09T05:36:33.819Z"
   },
   {
    "duration": 848,
    "start_time": "2021-10-09T05:36:49.886Z"
   },
   {
    "duration": 15,
    "start_time": "2021-10-09T05:36:54.013Z"
   },
   {
    "duration": 1115,
    "start_time": "2021-10-09T05:38:34.400Z"
   },
   {
    "duration": 315,
    "start_time": "2021-10-09T05:40:34.023Z"
   },
   {
    "duration": 11,
    "start_time": "2021-10-09T05:40:48.429Z"
   },
   {
    "duration": 298,
    "start_time": "2021-10-09T05:42:17.639Z"
   },
   {
    "duration": 11,
    "start_time": "2021-10-09T05:42:25.014Z"
   },
   {
    "duration": 327,
    "start_time": "2021-10-09T05:50:26.172Z"
   },
   {
    "duration": 11,
    "start_time": "2021-10-09T09:18:49.628Z"
   },
   {
    "duration": 10,
    "start_time": "2021-10-09T09:19:03.201Z"
   },
   {
    "duration": 59,
    "start_time": "2021-10-09T09:22:09.366Z"
   },
   {
    "duration": 67,
    "start_time": "2021-10-09T09:22:38.485Z"
   },
   {
    "duration": 70,
    "start_time": "2021-10-09T09:22:53.249Z"
   },
   {
    "duration": 65,
    "start_time": "2021-10-09T09:23:05.164Z"
   },
   {
    "duration": 64,
    "start_time": "2021-10-09T09:23:14.631Z"
   },
   {
    "duration": 805,
    "start_time": "2021-10-09T09:27:36.524Z"
   },
   {
    "duration": 72,
    "start_time": "2021-10-09T09:27:55.365Z"
   },
   {
    "duration": 70,
    "start_time": "2021-10-09T09:28:21.686Z"
   },
   {
    "duration": 79,
    "start_time": "2021-10-09T09:28:42.682Z"
   },
   {
    "duration": 840,
    "start_time": "2021-10-09T09:29:18.006Z"
   },
   {
    "duration": 88,
    "start_time": "2021-10-09T09:33:03.310Z"
   },
   {
    "duration": 462,
    "start_time": "2021-10-09T09:36:23.616Z"
   },
   {
    "duration": 348,
    "start_time": "2021-10-09T09:37:52.521Z"
   },
   {
    "duration": 90,
    "start_time": "2021-10-09T09:38:07.061Z"
   },
   {
    "duration": 91,
    "start_time": "2021-10-09T09:39:07.721Z"
   },
   {
    "duration": 82,
    "start_time": "2021-10-09T09:43:43.919Z"
   },
   {
    "duration": 108,
    "start_time": "2021-10-09T09:45:18.651Z"
   },
   {
    "duration": 82,
    "start_time": "2021-10-09T09:45:33.343Z"
   },
   {
    "duration": 82,
    "start_time": "2021-10-09T09:47:04.563Z"
   },
   {
    "duration": 83,
    "start_time": "2021-10-09T09:47:13.677Z"
   },
   {
    "duration": 357,
    "start_time": "2021-10-09T09:54:10.878Z"
   },
   {
    "duration": 89,
    "start_time": "2021-10-09T09:54:19.308Z"
   },
   {
    "duration": 87,
    "start_time": "2021-10-09T09:55:13.193Z"
   },
   {
    "duration": 89,
    "start_time": "2021-10-09T09:55:30.278Z"
   },
   {
    "duration": 343,
    "start_time": "2021-10-09T09:55:47.920Z"
   },
   {
    "duration": 90,
    "start_time": "2021-10-09T09:55:56.585Z"
   },
   {
    "duration": 91,
    "start_time": "2021-10-09T09:56:11.583Z"
   },
   {
    "duration": 102,
    "start_time": "2021-10-09T09:59:36.890Z"
   },
   {
    "duration": 97,
    "start_time": "2021-10-09T10:01:30.873Z"
   },
   {
    "duration": 97,
    "start_time": "2021-10-09T10:03:39.139Z"
   },
   {
    "duration": 95,
    "start_time": "2021-10-09T10:05:05.196Z"
   },
   {
    "duration": 69,
    "start_time": "2021-10-09T10:12:02.309Z"
   },
   {
    "duration": 830,
    "start_time": "2021-10-09T10:12:24.974Z"
   },
   {
    "duration": 69,
    "start_time": "2021-10-09T10:13:17.441Z"
   },
   {
    "duration": 68,
    "start_time": "2021-10-09T10:13:47.687Z"
   },
   {
    "duration": 96,
    "start_time": "2021-10-09T10:14:44.532Z"
   },
   {
    "duration": 72,
    "start_time": "2021-10-09T10:16:20.209Z"
   },
   {
    "duration": 402,
    "start_time": "2021-10-09T10:17:07.375Z"
   },
   {
    "duration": 277,
    "start_time": "2021-10-09T10:21:57.895Z"
   },
   {
    "duration": 261,
    "start_time": "2021-10-09T10:22:06.461Z"
   },
   {
    "duration": 70,
    "start_time": "2021-10-09T10:22:14.616Z"
   },
   {
    "duration": 653,
    "start_time": "2021-10-09T12:51:21.804Z"
   },
   {
    "duration": 17,
    "start_time": "2021-10-09T12:55:13.233Z"
   },
   {
    "duration": 16,
    "start_time": "2021-10-09T12:55:44.760Z"
   },
   {
    "duration": 15,
    "start_time": "2021-10-09T12:56:05.398Z"
   },
   {
    "duration": 642,
    "start_time": "2021-10-09T12:56:31.228Z"
   },
   {
    "duration": 50,
    "start_time": "2021-10-09T12:57:00.126Z"
   },
   {
    "duration": 51,
    "start_time": "2021-10-09T13:00:01.840Z"
   },
   {
    "duration": 52,
    "start_time": "2021-10-09T13:28:02.573Z"
   },
   {
    "duration": 633,
    "start_time": "2021-10-09T13:28:13.410Z"
   },
   {
    "duration": 6,
    "start_time": "2021-10-09T13:30:01.706Z"
   },
   {
    "duration": 352,
    "start_time": "2021-10-09T13:30:21.090Z"
   },
   {
    "duration": 288,
    "start_time": "2021-10-09T13:30:27.760Z"
   },
   {
    "duration": 5,
    "start_time": "2021-10-09T13:31:22.623Z"
   },
   {
    "duration": 5,
    "start_time": "2021-10-09T13:31:51.806Z"
   },
   {
    "duration": 12,
    "start_time": "2021-10-09T14:04:59.370Z"
   },
   {
    "duration": 24,
    "start_time": "2021-10-09T14:05:14.802Z"
   },
   {
    "duration": 311,
    "start_time": "2021-10-09T14:06:01.142Z"
   },
   {
    "duration": 330,
    "start_time": "2021-10-09T14:06:11.443Z"
   },
   {
    "duration": 18,
    "start_time": "2021-10-09T14:06:28.804Z"
   },
   {
    "duration": 26,
    "start_time": "2021-10-09T14:06:46.811Z"
   },
   {
    "duration": 343,
    "start_time": "2021-10-09T14:08:45.157Z"
   },
   {
    "duration": 383,
    "start_time": "2021-10-09T14:08:59.142Z"
   },
   {
    "duration": 316,
    "start_time": "2021-10-09T14:09:12.198Z"
   },
   {
    "duration": 13,
    "start_time": "2021-10-09T14:09:34.610Z"
   },
   {
    "duration": 293,
    "start_time": "2021-10-09T14:10:59.236Z"
   },
   {
    "duration": 283,
    "start_time": "2021-10-09T14:11:06.108Z"
   },
   {
    "duration": 14,
    "start_time": "2021-10-09T14:11:20.259Z"
   },
   {
    "duration": 14,
    "start_time": "2021-10-09T14:11:45.365Z"
   },
   {
    "duration": 4,
    "start_time": "2021-10-09T14:12:07.492Z"
   },
   {
    "duration": 243,
    "start_time": "2021-10-09T15:02:53.451Z"
   },
   {
    "duration": 321,
    "start_time": "2021-10-09T15:03:27.662Z"
   },
   {
    "duration": 1085,
    "start_time": "2021-10-09T15:03:31.544Z"
   },
   {
    "duration": 28,
    "start_time": "2021-10-09T15:03:46.872Z"
   },
   {
    "duration": 13,
    "start_time": "2021-10-09T15:03:51.180Z"
   },
   {
    "duration": 48,
    "start_time": "2021-10-09T15:05:20.789Z"
   },
   {
    "duration": 26,
    "start_time": "2021-10-09T15:05:24.696Z"
   },
   {
    "duration": 13,
    "start_time": "2021-10-09T15:05:31.376Z"
   },
   {
    "duration": 30,
    "start_time": "2021-10-09T15:23:37.893Z"
   },
   {
    "duration": 26,
    "start_time": "2021-10-09T15:24:19.823Z"
   },
   {
    "duration": 27,
    "start_time": "2021-10-09T15:24:29.878Z"
   },
   {
    "duration": 52,
    "start_time": "2021-10-09T15:24:35.855Z"
   },
   {
    "duration": 25,
    "start_time": "2021-10-09T15:24:38.460Z"
   },
   {
    "duration": 27,
    "start_time": "2021-10-09T15:24:56.927Z"
   },
   {
    "duration": 50,
    "start_time": "2021-10-09T15:25:14.270Z"
   },
   {
    "duration": 26,
    "start_time": "2021-10-09T15:25:24.736Z"
   },
   {
    "duration": 27,
    "start_time": "2021-10-09T15:25:43.768Z"
   },
   {
    "duration": 50,
    "start_time": "2021-10-09T15:25:48.092Z"
   },
   {
    "duration": 26,
    "start_time": "2021-10-09T15:25:50.559Z"
   },
   {
    "duration": 13,
    "start_time": "2021-10-09T15:27:25.276Z"
   },
   {
    "duration": 16,
    "start_time": "2021-10-09T16:00:06.022Z"
   },
   {
    "duration": 15,
    "start_time": "2021-10-09T16:02:22.529Z"
   },
   {
    "duration": 13,
    "start_time": "2021-10-09T16:02:38.833Z"
   },
   {
    "duration": 15,
    "start_time": "2021-10-09T16:02:50.687Z"
   },
   {
    "duration": 14,
    "start_time": "2021-10-09T16:03:31.244Z"
   },
   {
    "duration": 15,
    "start_time": "2021-10-09T16:03:38.606Z"
   },
   {
    "duration": 15,
    "start_time": "2021-10-09T16:03:43.093Z"
   },
   {
    "duration": 24,
    "start_time": "2021-10-09T16:05:28.012Z"
   },
   {
    "duration": 1155,
    "start_time": "2021-10-09T16:05:35.551Z"
   },
   {
    "duration": 15,
    "start_time": "2021-10-09T16:05:51.411Z"
   },
   {
    "duration": 15,
    "start_time": "2021-10-09T16:06:22.081Z"
   },
   {
    "duration": 19,
    "start_time": "2021-10-09T16:06:29.029Z"
   },
   {
    "duration": 15,
    "start_time": "2021-10-09T16:06:38.833Z"
   },
   {
    "duration": 15,
    "start_time": "2021-10-09T16:12:44.765Z"
   },
   {
    "duration": 16,
    "start_time": "2021-10-09T16:13:59.958Z"
   },
   {
    "duration": 16,
    "start_time": "2021-10-09T16:14:07.723Z"
   },
   {
    "duration": 6,
    "start_time": "2021-10-09T16:17:06.523Z"
   },
   {
    "duration": 18,
    "start_time": "2021-10-09T16:35:11.379Z"
   },
   {
    "duration": 7,
    "start_time": "2021-10-09T16:35:52.286Z"
   },
   {
    "duration": 1575,
    "start_time": "2021-10-09T16:41:05.295Z"
   },
   {
    "duration": 6,
    "start_time": "2021-10-09T16:41:10.955Z"
   },
   {
    "duration": 8,
    "start_time": "2021-10-09T16:43:22.592Z"
   },
   {
    "duration": 10,
    "start_time": "2021-10-09T17:05:16.773Z"
   },
   {
    "duration": 10,
    "start_time": "2021-10-09T17:05:50.676Z"
   },
   {
    "duration": 308,
    "start_time": "2021-10-09T17:07:52.178Z"
   },
   {
    "duration": 40,
    "start_time": "2021-10-09T17:08:53.237Z"
   },
   {
    "duration": 293,
    "start_time": "2021-10-09T17:09:00.386Z"
   },
   {
    "duration": 28,
    "start_time": "2021-10-09T17:09:07.057Z"
   },
   {
    "duration": 49,
    "start_time": "2021-10-09T17:09:10.454Z"
   },
   {
    "duration": 31,
    "start_time": "2021-10-09T17:09:12.876Z"
   },
   {
    "duration": 286,
    "start_time": "2021-10-09T17:12:08.805Z"
   },
   {
    "duration": 291,
    "start_time": "2021-10-09T17:12:23.070Z"
   },
   {
    "duration": 314,
    "start_time": "2021-10-09T17:12:36.357Z"
   },
   {
    "duration": 286,
    "start_time": "2021-10-09T17:12:42.491Z"
   },
   {
    "duration": 30,
    "start_time": "2021-10-09T17:13:39.323Z"
   },
   {
    "duration": 30,
    "start_time": "2021-10-09T17:13:51.138Z"
   },
   {
    "duration": 31,
    "start_time": "2021-10-09T17:14:04.814Z"
   },
   {
    "duration": 49,
    "start_time": "2021-10-09T17:14:19.721Z"
   },
   {
    "duration": 30,
    "start_time": "2021-10-09T17:14:22.767Z"
   },
   {
    "duration": 18,
    "start_time": "2021-10-09T17:14:31.675Z"
   },
   {
    "duration": 28,
    "start_time": "2021-10-09T17:16:17.293Z"
   },
   {
    "duration": 15,
    "start_time": "2021-10-09T17:16:35.571Z"
   },
   {
    "duration": 7,
    "start_time": "2021-10-09T17:17:41.844Z"
   },
   {
    "duration": 286,
    "start_time": "2021-10-09T17:20:59.697Z"
   },
   {
    "duration": 14,
    "start_time": "2021-10-09T17:21:15.989Z"
   },
   {
    "duration": 9274,
    "start_time": "2021-10-09T17:21:55.089Z"
   },
   {
    "duration": 15,
    "start_time": "2021-10-09T17:22:19.462Z"
   },
   {
    "duration": 32,
    "start_time": "2021-10-09T17:22:41.547Z"
   },
   {
    "duration": 29,
    "start_time": "2021-10-09T17:23:00.448Z"
   },
   {
    "duration": 16,
    "start_time": "2021-10-09T17:23:59.908Z"
   },
   {
    "duration": 8,
    "start_time": "2021-10-09T17:24:03.658Z"
   },
   {
    "duration": 48,
    "start_time": "2021-10-09T17:25:39.641Z"
   },
   {
    "duration": 27,
    "start_time": "2021-10-09T17:25:42.308Z"
   },
   {
    "duration": 16,
    "start_time": "2021-10-09T17:25:45.089Z"
   },
   {
    "duration": 7,
    "start_time": "2021-10-09T17:25:49.586Z"
   },
   {
    "duration": 6,
    "start_time": "2021-10-09T17:26:15.172Z"
   },
   {
    "duration": 7,
    "start_time": "2021-10-09T17:26:37.770Z"
   },
   {
    "duration": 28,
    "start_time": "2021-10-09T17:26:46.819Z"
   },
   {
    "duration": 34,
    "start_time": "2021-10-09T17:26:52.855Z"
   },
   {
    "duration": 41,
    "start_time": "2021-10-09T17:43:19.368Z"
   },
   {
    "duration": 37,
    "start_time": "2021-10-09T17:43:42.490Z"
   },
   {
    "duration": 27,
    "start_time": "2021-10-09T19:08:46.829Z"
   },
   {
    "duration": 11,
    "start_time": "2021-10-09T19:11:39.888Z"
   },
   {
    "duration": 286,
    "start_time": "2021-10-09T19:19:36.253Z"
   },
   {
    "duration": 288,
    "start_time": "2021-10-09T19:19:39.267Z"
   },
   {
    "duration": 48,
    "start_time": "2021-10-09T19:19:49.056Z"
   },
   {
    "duration": 15,
    "start_time": "2021-10-09T19:19:51.853Z"
   },
   {
    "duration": 12,
    "start_time": "2021-10-09T19:19:57.853Z"
   },
   {
    "duration": 21,
    "start_time": "2021-10-09T19:20:05.245Z"
   },
   {
    "duration": 23,
    "start_time": "2021-10-09T19:20:17.991Z"
   },
   {
    "duration": 291,
    "start_time": "2021-10-09T19:37:18.697Z"
   },
   {
    "duration": 47,
    "start_time": "2021-10-09T19:37:26.190Z"
   },
   {
    "duration": 18,
    "start_time": "2021-10-09T19:37:29.093Z"
   },
   {
    "duration": 253,
    "start_time": "2021-10-10T10:05:35.996Z"
   },
   {
    "duration": 658,
    "start_time": "2021-10-10T10:05:57.706Z"
   },
   {
    "duration": 26,
    "start_time": "2021-10-10T10:05:58.367Z"
   },
   {
    "duration": 12,
    "start_time": "2021-10-10T10:05:58.395Z"
   },
   {
    "duration": 47,
    "start_time": "2021-10-10T10:05:58.409Z"
   },
   {
    "duration": 6,
    "start_time": "2021-10-10T10:05:58.458Z"
   },
   {
    "duration": 50,
    "start_time": "2021-10-10T10:06:02.612Z"
   },
   {
    "duration": 20,
    "start_time": "2021-10-10T10:06:05.493Z"
   },
   {
    "duration": 12,
    "start_time": "2021-10-10T10:06:07.876Z"
   },
   {
    "duration": 24,
    "start_time": "2021-10-10T10:06:10.359Z"
   },
   {
    "duration": 23,
    "start_time": "2021-10-10T10:06:34.936Z"
   },
   {
    "duration": 7,
    "start_time": "2021-10-10T10:14:40.685Z"
   },
   {
    "duration": 6,
    "start_time": "2021-10-10T10:16:12.350Z"
   },
   {
    "duration": 4,
    "start_time": "2021-10-10T10:16:19.366Z"
   },
   {
    "duration": 7,
    "start_time": "2021-10-10T10:16:46.957Z"
   },
   {
    "duration": 12,
    "start_time": "2021-10-10T10:17:51.502Z"
   },
   {
    "duration": 17,
    "start_time": "2021-10-10T10:18:18.319Z"
   },
   {
    "duration": 8,
    "start_time": "2021-10-10T14:10:11.072Z"
   },
   {
    "duration": 373,
    "start_time": "2021-10-10T14:42:02.678Z"
   },
   {
    "duration": 338,
    "start_time": "2021-10-10T14:42:59.654Z"
   },
   {
    "duration": 373,
    "start_time": "2021-10-10T14:43:16.200Z"
   },
   {
    "duration": 356,
    "start_time": "2021-10-10T14:43:52.810Z"
   },
   {
    "duration": 346,
    "start_time": "2021-10-10T14:44:41.003Z"
   },
   {
    "duration": 4,
    "start_time": "2021-10-10T14:45:39.246Z"
   },
   {
    "duration": 5,
    "start_time": "2021-10-10T14:45:41.755Z"
   },
   {
    "duration": 100,
    "start_time": "2021-10-10T14:50:05.774Z"
   },
   {
    "duration": 71,
    "start_time": "2021-10-10T14:50:14.819Z"
   },
   {
    "duration": 7,
    "start_time": "2021-10-10T14:50:23.232Z"
   },
   {
    "duration": 5,
    "start_time": "2021-10-10T14:50:26.303Z"
   },
   {
    "duration": 8,
    "start_time": "2021-10-10T14:50:54.494Z"
   },
   {
    "duration": 528,
    "start_time": "2021-10-10T14:52:35.327Z"
   },
   {
    "duration": 541,
    "start_time": "2021-10-10T14:53:00.161Z"
   },
   {
    "duration": 532,
    "start_time": "2021-10-10T14:53:09.783Z"
   },
   {
    "duration": 51,
    "start_time": "2021-10-10T14:53:17.009Z"
   },
   {
    "duration": 19,
    "start_time": "2021-10-10T14:53:20.391Z"
   },
   {
    "duration": 12,
    "start_time": "2021-10-10T14:53:23.676Z"
   },
   {
    "duration": 26,
    "start_time": "2021-10-10T14:53:26.306Z"
   },
   {
    "duration": 37,
    "start_time": "2021-10-10T14:53:28.260Z"
   },
   {
    "duration": 535,
    "start_time": "2021-10-10T14:53:32.309Z"
   },
   {
    "duration": 542,
    "start_time": "2021-10-10T14:53:43.101Z"
   },
   {
    "duration": 7,
    "start_time": "2021-10-10T14:54:22.472Z"
   },
   {
    "duration": 8,
    "start_time": "2021-10-10T14:54:24.836Z"
   },
   {
    "duration": 56,
    "start_time": "2021-10-10T14:54:30.773Z"
   },
   {
    "duration": 22,
    "start_time": "2021-10-10T14:54:33.996Z"
   },
   {
    "duration": 12,
    "start_time": "2021-10-10T14:54:36.737Z"
   },
   {
    "duration": 23,
    "start_time": "2021-10-10T14:54:39.231Z"
   },
   {
    "duration": 25,
    "start_time": "2021-10-10T14:54:40.544Z"
   },
   {
    "duration": 10,
    "start_time": "2021-10-10T14:54:45.258Z"
   },
   {
    "duration": 510,
    "start_time": "2021-10-10T14:55:32.978Z"
   },
   {
    "duration": 529,
    "start_time": "2021-10-10T14:55:54.733Z"
   },
   {
    "duration": 536,
    "start_time": "2021-10-10T14:56:13.813Z"
   },
   {
    "duration": 529,
    "start_time": "2021-10-10T14:56:32.009Z"
   },
   {
    "duration": 68,
    "start_time": "2021-10-10T15:00:30.976Z"
   },
   {
    "duration": 606,
    "start_time": "2021-10-10T15:00:40.332Z"
   },
   {
    "duration": 21265,
    "start_time": "2021-10-10T15:01:22.369Z"
   },
   {
    "duration": 520,
    "start_time": "2021-10-10T15:01:54.066Z"
   },
   {
    "duration": 70,
    "start_time": "2021-10-10T15:04:12.230Z"
   },
   {
    "duration": 421,
    "start_time": "2021-10-10T15:04:25.796Z"
   },
   {
    "duration": 328,
    "start_time": "2021-10-10T15:04:33.390Z"
   },
   {
    "duration": 333,
    "start_time": "2021-10-10T15:04:38.665Z"
   },
   {
    "duration": 512,
    "start_time": "2021-10-10T15:05:15.815Z"
   },
   {
    "duration": 515,
    "start_time": "2021-10-10T15:08:08.729Z"
   },
   {
    "duration": 347,
    "start_time": "2021-10-10T15:08:37.287Z"
   },
   {
    "duration": 374,
    "start_time": "2021-10-10T15:08:49.269Z"
   },
   {
    "duration": 363,
    "start_time": "2021-10-10T15:09:12.682Z"
   },
   {
    "duration": 257,
    "start_time": "2021-10-10T15:09:29.949Z"
   },
   {
    "duration": 363,
    "start_time": "2021-10-10T15:09:39.044Z"
   },
   {
    "duration": 206,
    "start_time": "2021-10-10T15:10:18.176Z"
   },
   {
    "duration": 237,
    "start_time": "2021-10-10T15:10:48.881Z"
   },
   {
    "duration": 377,
    "start_time": "2021-10-10T15:12:05.005Z"
   },
   {
    "duration": 386,
    "start_time": "2021-10-10T15:12:26.187Z"
   },
   {
    "duration": 13892,
    "start_time": "2021-10-10T15:13:13.779Z"
   },
   {
    "duration": 13649,
    "start_time": "2021-10-10T15:13:55.878Z"
   },
   {
    "duration": 17016,
    "start_time": "2021-10-10T15:14:56.556Z"
   },
   {
    "duration": 369,
    "start_time": "2021-10-10T15:15:32.874Z"
   },
   {
    "duration": 72,
    "start_time": "2021-10-10T15:17:42.021Z"
   },
   {
    "duration": 379,
    "start_time": "2021-10-10T15:17:47.598Z"
   },
   {
    "duration": 364,
    "start_time": "2021-10-10T15:18:04.456Z"
   },
   {
    "duration": 289,
    "start_time": "2021-10-10T15:19:12.362Z"
   },
   {
    "duration": 519,
    "start_time": "2021-10-10T15:20:03.182Z"
   },
   {
    "duration": 290,
    "start_time": "2021-10-10T15:20:28.837Z"
   },
   {
    "duration": 731,
    "start_time": "2021-10-10T15:21:21.961Z"
   },
   {
    "duration": 74,
    "start_time": "2021-10-10T15:21:28.601Z"
   },
   {
    "duration": 878,
    "start_time": "2021-10-10T15:21:34.607Z"
   },
   {
    "duration": 505,
    "start_time": "2021-10-10T15:22:36.692Z"
   },
   {
    "duration": 67,
    "start_time": "2021-10-10T15:27:20.095Z"
   },
   {
    "duration": 287,
    "start_time": "2021-10-10T15:28:27.734Z"
   },
   {
    "duration": 284,
    "start_time": "2021-10-10T15:29:57.599Z"
   },
   {
    "duration": 768,
    "start_time": "2021-10-10T15:30:07.797Z"
   },
   {
    "duration": 283,
    "start_time": "2021-10-10T15:30:21.981Z"
   },
   {
    "duration": 302,
    "start_time": "2021-10-10T15:31:12.876Z"
   },
   {
    "duration": 351,
    "start_time": "2021-10-10T15:36:23.072Z"
   },
   {
    "duration": 350,
    "start_time": "2021-10-10T15:36:47.214Z"
   },
   {
    "duration": 361,
    "start_time": "2021-10-10T15:37:31.493Z"
   },
   {
    "duration": 370,
    "start_time": "2021-10-10T15:37:39.518Z"
   },
   {
    "duration": 361,
    "start_time": "2021-10-10T15:38:04.954Z"
   },
   {
    "duration": 338,
    "start_time": "2021-10-10T15:38:27.496Z"
   },
   {
    "duration": 659,
    "start_time": "2021-10-10T15:40:02.515Z"
   },
   {
    "duration": 393,
    "start_time": "2021-10-10T15:40:57.316Z"
   },
   {
    "duration": 380,
    "start_time": "2021-10-10T15:41:20.896Z"
   },
   {
    "duration": 432,
    "start_time": "2021-10-10T15:47:37.291Z"
   },
   {
    "duration": 356,
    "start_time": "2021-10-10T15:52:35.505Z"
   },
   {
    "duration": 5,
    "start_time": "2021-10-10T15:52:57.365Z"
   },
   {
    "duration": 365,
    "start_time": "2021-10-10T15:54:38.832Z"
   },
   {
    "duration": 345,
    "start_time": "2021-10-10T15:57:23.239Z"
   },
   {
    "duration": 352,
    "start_time": "2021-10-10T16:02:47.598Z"
   },
   {
    "duration": 535,
    "start_time": "2021-10-10T16:07:33.090Z"
   },
   {
    "duration": 399,
    "start_time": "2021-10-10T16:07:50.229Z"
   },
   {
    "duration": 377,
    "start_time": "2021-10-10T16:10:51.474Z"
   },
   {
    "duration": 401,
    "start_time": "2021-10-10T17:01:18.707Z"
   },
   {
    "duration": 5,
    "start_time": "2021-10-10T17:02:01.646Z"
   },
   {
    "duration": 220,
    "start_time": "2021-10-10T17:02:26.852Z"
   },
   {
    "duration": -161,
    "start_time": "2021-10-10T17:02:40.334Z"
   },
   {
    "duration": 5169,
    "start_time": "2021-10-10T17:04:08.766Z"
   },
   {
    "duration": 425,
    "start_time": "2021-10-10T17:05:34.332Z"
   },
   {
    "duration": -286,
    "start_time": "2021-10-10T17:10:53.293Z"
   },
   {
    "duration": 50,
    "start_time": "2021-10-10T17:13:06.817Z"
   },
   {
    "duration": 21,
    "start_time": "2021-10-10T17:13:12.612Z"
   },
   {
    "duration": 12,
    "start_time": "2021-10-10T17:13:18.472Z"
   },
   {
    "duration": 23,
    "start_time": "2021-10-10T17:13:22.122Z"
   },
   {
    "duration": 27,
    "start_time": "2021-10-10T17:13:24.201Z"
   },
   {
    "duration": 364,
    "start_time": "2021-10-10T17:13:28.302Z"
   },
   {
    "duration": 5353,
    "start_time": "2021-10-10T17:15:17.903Z"
   },
   {
    "duration": 216,
    "start_time": "2021-10-10T17:19:07.883Z"
   },
   {
    "duration": 214,
    "start_time": "2021-10-10T17:19:38.120Z"
   },
   {
    "duration": 98982,
    "start_time": "2021-10-10T17:20:46.285Z"
   },
   {
    "duration": 97555,
    "start_time": "2021-10-10T17:24:37.377Z"
   },
   {
    "duration": 80,
    "start_time": "2021-10-10T17:59:37.618Z"
   },
   {
    "duration": 16,
    "start_time": "2021-10-10T17:59:51.326Z"
   },
   {
    "duration": 17,
    "start_time": "2021-10-10T18:00:34.926Z"
   },
   {
    "duration": 367,
    "start_time": "2021-10-10T18:01:00.948Z"
   },
   {
    "duration": 354,
    "start_time": "2021-10-10T18:01:10.663Z"
   },
   {
    "duration": 18,
    "start_time": "2021-10-10T18:01:30.314Z"
   },
   {
    "duration": 353,
    "start_time": "2021-10-10T18:01:46.655Z"
   },
   {
    "duration": 437,
    "start_time": "2021-10-10T18:01:59.041Z"
   },
   {
    "duration": 75,
    "start_time": "2021-10-10T18:02:06.529Z"
   },
   {
    "duration": 408,
    "start_time": "2021-10-10T18:02:11.379Z"
   },
   {
    "duration": 352,
    "start_time": "2021-10-10T18:02:35.378Z"
   },
   {
    "duration": 57,
    "start_time": "2021-10-10T18:03:26.300Z"
   },
   {
    "duration": 21,
    "start_time": "2021-10-10T18:03:31.051Z"
   },
   {
    "duration": 12,
    "start_time": "2021-10-10T18:03:34.481Z"
   },
   {
    "duration": 24,
    "start_time": "2021-10-10T18:03:38.112Z"
   },
   {
    "duration": 29,
    "start_time": "2021-10-10T18:03:40.711Z"
   },
   {
    "duration": 453,
    "start_time": "2021-10-10T18:03:44.493Z"
   },
   {
    "duration": 204,
    "start_time": "2021-10-10T18:26:54.205Z"
   },
   {
    "duration": 945,
    "start_time": "2021-10-10T18:27:07.695Z"
   },
   {
    "duration": 1058,
    "start_time": "2021-10-10T18:27:23.981Z"
   },
   {
    "duration": 1004,
    "start_time": "2021-10-10T18:27:39.787Z"
   },
   {
    "duration": 211,
    "start_time": "2021-10-10T18:28:11.365Z"
   },
   {
    "duration": 309,
    "start_time": "2021-10-10T18:28:14.945Z"
   },
   {
    "duration": 52,
    "start_time": "2021-10-10T18:28:18.257Z"
   },
   {
    "duration": 22,
    "start_time": "2021-10-10T18:28:20.628Z"
   },
   {
    "duration": 12,
    "start_time": "2021-10-10T18:28:26.032Z"
   },
   {
    "duration": 23,
    "start_time": "2021-10-10T18:28:28.640Z"
   },
   {
    "duration": 25,
    "start_time": "2021-10-10T18:28:30.315Z"
   },
   {
    "duration": 1505,
    "start_time": "2021-10-10T18:28:37.298Z"
   },
   {
    "duration": 1095,
    "start_time": "2021-10-10T18:30:01.262Z"
   },
   {
    "duration": 935,
    "start_time": "2021-10-10T18:30:17.295Z"
   },
   {
    "duration": 53,
    "start_time": "2021-10-10T18:30:33.140Z"
   },
   {
    "duration": 20,
    "start_time": "2021-10-10T18:30:35.936Z"
   },
   {
    "duration": 13,
    "start_time": "2021-10-10T18:30:38.948Z"
   },
   {
    "duration": 23,
    "start_time": "2021-10-10T18:30:41.249Z"
   },
   {
    "duration": 24,
    "start_time": "2021-10-10T18:30:45.728Z"
   },
   {
    "duration": 1907,
    "start_time": "2021-10-10T18:30:53.012Z"
   },
   {
    "duration": 1028,
    "start_time": "2021-10-10T18:46:35.921Z"
   },
   {
    "duration": 5668,
    "start_time": "2021-10-10T18:57:47.806Z"
   },
   {
    "duration": 1514,
    "start_time": "2021-10-10T18:58:08.756Z"
   },
   {
    "duration": 365,
    "start_time": "2021-10-10T19:26:03.560Z"
   },
   {
    "duration": 845,
    "start_time": "2021-10-10T19:27:05.531Z"
   },
   {
    "duration": 302,
    "start_time": "2021-10-10T19:27:43.248Z"
   },
   {
    "duration": 353,
    "start_time": "2021-10-10T19:27:53.812Z"
   },
   {
    "duration": 342,
    "start_time": "2021-10-10T19:29:58.303Z"
   },
   {
    "duration": 406,
    "start_time": "2021-10-10T19:32:42.310Z"
   },
   {
    "duration": 495,
    "start_time": "2021-10-10T19:33:35.874Z"
   },
   {
    "duration": 404,
    "start_time": "2021-10-10T19:33:46.247Z"
   },
   {
    "duration": 342,
    "start_time": "2021-10-10T19:33:54.326Z"
   },
   {
    "duration": 347,
    "start_time": "2021-10-10T19:36:15.582Z"
   },
   {
    "duration": 69,
    "start_time": "2021-10-10T19:37:25.537Z"
   },
   {
    "duration": 346,
    "start_time": "2021-10-10T19:37:49.111Z"
   },
   {
    "duration": 367,
    "start_time": "2021-10-10T19:38:26.076Z"
   },
   {
    "duration": 352,
    "start_time": "2021-10-10T19:38:37.783Z"
   },
   {
    "duration": 344,
    "start_time": "2021-10-10T19:39:24.142Z"
   },
   {
    "duration": 364,
    "start_time": "2021-10-10T19:40:50.081Z"
   },
   {
    "duration": 368,
    "start_time": "2021-10-10T19:41:16.051Z"
   },
   {
    "duration": 355,
    "start_time": "2021-10-10T19:41:29.652Z"
   },
   {
    "duration": 345,
    "start_time": "2021-10-10T19:41:37.644Z"
   },
   {
    "duration": 368,
    "start_time": "2021-10-10T19:42:31.220Z"
   },
   {
    "duration": 356,
    "start_time": "2021-10-10T19:42:48.742Z"
   },
   {
    "duration": 340,
    "start_time": "2021-10-10T19:45:52.144Z"
   },
   {
    "duration": 349,
    "start_time": "2021-10-10T19:46:14.002Z"
   },
   {
    "duration": 604,
    "start_time": "2021-10-10T19:46:57.329Z"
   },
   {
    "duration": 597,
    "start_time": "2021-10-10T19:47:21.364Z"
   },
   {
    "duration": 351,
    "start_time": "2021-10-10T19:55:22.017Z"
   },
   {
    "duration": 207,
    "start_time": "2021-10-10T19:55:39.538Z"
   },
   {
    "duration": 213,
    "start_time": "2021-10-10T19:56:16.011Z"
   },
   {
    "duration": 204,
    "start_time": "2021-10-10T19:56:32.419Z"
   },
   {
    "duration": 247,
    "start_time": "2021-10-10T19:56:38.578Z"
   },
   {
    "duration": 211,
    "start_time": "2021-10-10T19:57:53.946Z"
   },
   {
    "duration": 844,
    "start_time": "2021-10-10T20:04:03.091Z"
   },
   {
    "duration": 1039,
    "start_time": "2021-10-10T20:04:28.303Z"
   },
   {
    "duration": 862,
    "start_time": "2021-10-10T20:05:45.324Z"
   },
   {
    "duration": 826,
    "start_time": "2021-10-10T20:05:55.704Z"
   },
   {
    "duration": 847,
    "start_time": "2021-10-10T20:06:22.022Z"
   },
   {
    "duration": 1008,
    "start_time": "2021-10-10T20:06:38.485Z"
   },
   {
    "duration": 255,
    "start_time": "2021-10-10T20:07:55.441Z"
   },
   {
    "duration": 1094,
    "start_time": "2021-10-10T20:13:03.188Z"
   },
   {
    "duration": 77,
    "start_time": "2021-10-10T20:13:35.119Z"
   },
   {
    "duration": 8352,
    "start_time": "2021-10-10T20:13:50.849Z"
   },
   {
    "duration": 8435,
    "start_time": "2021-10-10T20:15:07.768Z"
   },
   {
    "duration": 20,
    "start_time": "2021-10-10T20:15:22.235Z"
   },
   {
    "duration": 29,
    "start_time": "2021-10-10T20:15:41.734Z"
   },
   {
    "duration": 219,
    "start_time": "2021-10-10T20:45:32.192Z"
   },
   {
    "duration": 225,
    "start_time": "2021-10-10T20:45:44.083Z"
   },
   {
    "duration": 27,
    "start_time": "2021-10-10T20:46:01.450Z"
   },
   {
    "duration": 34,
    "start_time": "2021-10-10T20:46:36.750Z"
   },
   {
    "duration": 53,
    "start_time": "2021-10-10T20:47:11.509Z"
   },
   {
    "duration": 21,
    "start_time": "2021-10-10T20:47:14.928Z"
   },
   {
    "duration": 12,
    "start_time": "2021-10-10T20:47:18.404Z"
   },
   {
    "duration": 21,
    "start_time": "2021-10-10T20:47:21.628Z"
   },
   {
    "duration": 18,
    "start_time": "2021-10-10T20:47:30.097Z"
   },
   {
    "duration": 52,
    "start_time": "2021-10-10T20:47:40.464Z"
   },
   {
    "duration": 20,
    "start_time": "2021-10-10T20:47:44.214Z"
   },
   {
    "duration": 11,
    "start_time": "2021-10-10T20:47:47.481Z"
   },
   {
    "duration": 17,
    "start_time": "2021-10-10T20:47:51.474Z"
   },
   {
    "duration": 23,
    "start_time": "2021-10-10T20:48:30.924Z"
   },
   {
    "duration": 36,
    "start_time": "2021-10-10T20:48:35.148Z"
   },
   {
    "duration": 24,
    "start_time": "2021-10-10T20:48:47.688Z"
   },
   {
    "duration": 1177,
    "start_time": "2021-10-10T20:48:54.509Z"
   },
   {
    "duration": 53,
    "start_time": "2021-10-10T20:48:59.164Z"
   },
   {
    "duration": 21,
    "start_time": "2021-10-10T20:49:01.722Z"
   },
   {
    "duration": 12,
    "start_time": "2021-10-10T20:49:04.909Z"
   },
   {
    "duration": 24,
    "start_time": "2021-10-10T20:49:09.504Z"
   },
   {
    "duration": 5530,
    "start_time": "2021-10-10T20:49:43.859Z"
   },
   {
    "duration": 51,
    "start_time": "2021-10-10T20:50:05.275Z"
   },
   {
    "duration": 21,
    "start_time": "2021-10-10T20:50:08.038Z"
   },
   {
    "duration": 13,
    "start_time": "2021-10-10T20:50:10.631Z"
   },
   {
    "duration": 24,
    "start_time": "2021-10-10T20:50:13.937Z"
   },
   {
    "duration": 35,
    "start_time": "2021-10-10T20:50:18.832Z"
   },
   {
    "duration": 34,
    "start_time": "2021-10-10T20:50:54.381Z"
   },
   {
    "duration": 33,
    "start_time": "2021-10-10T21:00:53.600Z"
   },
   {
    "duration": 33,
    "start_time": "2021-10-10T21:02:19.314Z"
   },
   {
    "duration": 1073,
    "start_time": "2021-10-10T21:02:50.203Z"
   },
   {
    "duration": 34,
    "start_time": "2021-10-10T21:03:16.222Z"
   },
   {
    "duration": 33,
    "start_time": "2021-10-10T21:03:22.964Z"
   },
   {
    "duration": 36,
    "start_time": "2021-10-10T21:03:43.568Z"
   },
   {
    "duration": 16,
    "start_time": "2021-10-10T21:05:43.936Z"
   },
   {
    "duration": 18,
    "start_time": "2021-10-10T21:29:58.081Z"
   },
   {
    "duration": 16,
    "start_time": "2021-10-10T21:30:28.002Z"
   },
   {
    "duration": 16,
    "start_time": "2021-10-10T21:31:27.602Z"
   },
   {
    "duration": 493,
    "start_time": "2021-10-11T05:21:47.625Z"
   },
   {
    "duration": 810,
    "start_time": "2021-10-11T05:22:00.384Z"
   },
   {
    "duration": 39,
    "start_time": "2021-10-11T05:22:05.408Z"
   },
   {
    "duration": 17,
    "start_time": "2021-10-11T05:22:08.779Z"
   },
   {
    "duration": 34,
    "start_time": "2021-10-11T05:22:12.702Z"
   },
   {
    "duration": 22,
    "start_time": "2021-10-11T05:22:16.199Z"
   },
   {
    "duration": 17,
    "start_time": "2021-10-11T05:22:19.782Z"
   },
   {
    "duration": 29,
    "start_time": "2021-10-11T05:22:25.769Z"
   },
   {
    "duration": 7,
    "start_time": "2021-10-11T06:27:16.567Z"
   },
   {
    "duration": 11,
    "start_time": "2021-10-11T06:28:45.476Z"
   },
   {
    "duration": 5,
    "start_time": "2021-10-11T06:30:34.888Z"
   },
   {
    "duration": 329,
    "start_time": "2021-10-11T06:31:20.178Z"
   },
   {
    "duration": 12,
    "start_time": "2021-10-11T06:32:18.798Z"
   },
   {
    "duration": 7,
    "start_time": "2021-10-11T06:34:07.581Z"
   },
   {
    "duration": 11,
    "start_time": "2021-10-11T06:37:21.994Z"
   },
   {
    "duration": 11,
    "start_time": "2021-10-11T06:37:39.596Z"
   },
   {
    "duration": 10,
    "start_time": "2021-10-11T06:38:09.741Z"
   },
   {
    "duration": 13,
    "start_time": "2021-10-11T06:38:27.464Z"
   },
   {
    "duration": 64,
    "start_time": "2021-10-11T06:43:25.261Z"
   },
   {
    "duration": 30,
    "start_time": "2021-10-11T06:43:28.130Z"
   },
   {
    "duration": 32,
    "start_time": "2021-10-11T06:43:33.144Z"
   },
   {
    "duration": 22,
    "start_time": "2021-10-11T06:43:38.362Z"
   },
   {
    "duration": 11,
    "start_time": "2021-10-11T06:43:42.495Z"
   },
   {
    "duration": 35,
    "start_time": "2021-10-11T06:51:38.178Z"
   },
   {
    "duration": 36,
    "start_time": "2021-10-11T06:51:55.712Z"
   },
   {
    "duration": 65,
    "start_time": "2021-10-11T06:51:55.751Z"
   },
   {
    "duration": 782,
    "start_time": "2021-10-11T06:52:43.060Z"
   },
   {
    "duration": 63,
    "start_time": "2021-10-11T06:52:50.074Z"
   },
   {
    "duration": 31,
    "start_time": "2021-10-11T06:52:53.345Z"
   },
   {
    "duration": 41,
    "start_time": "2021-10-11T06:52:56.658Z"
   },
   {
    "duration": 33,
    "start_time": "2021-10-11T06:53:13.356Z"
   },
   {
    "duration": 1787,
    "start_time": "2021-10-11T06:53:21.695Z"
   },
   {
    "duration": 1620,
    "start_time": "2021-10-11T06:53:26.601Z"
   },
   {
    "duration": 1590,
    "start_time": "2021-10-11T06:53:45.380Z"
   },
   {
    "duration": 11,
    "start_time": "2021-10-11T06:53:50.290Z"
   },
   {
    "duration": 64,
    "start_time": "2021-10-11T06:54:46.164Z"
   },
   {
    "duration": 41,
    "start_time": "2021-10-11T06:55:19.898Z"
   },
   {
    "duration": 18,
    "start_time": "2021-10-11T06:55:23.695Z"
   },
   {
    "duration": 35,
    "start_time": "2021-10-11T06:55:26.396Z"
   },
   {
    "duration": 1647,
    "start_time": "2021-10-11T06:55:32.791Z"
   },
   {
    "duration": 14,
    "start_time": "2021-10-11T06:56:06.317Z"
   },
   {
    "duration": 1726,
    "start_time": "2021-10-11T06:58:00.873Z"
   },
   {
    "duration": 1932,
    "start_time": "2021-10-11T06:58:22.796Z"
   },
   {
    "duration": 1685,
    "start_time": "2021-10-11T06:59:17.072Z"
   },
   {
    "duration": 60,
    "start_time": "2021-10-11T06:59:44.812Z"
   },
   {
    "duration": 31,
    "start_time": "2021-10-11T06:59:47.180Z"
   },
   {
    "duration": 18,
    "start_time": "2021-10-11T06:59:49.346Z"
   },
   {
    "duration": 33,
    "start_time": "2021-10-11T06:59:51.943Z"
   },
   {
    "duration": 23,
    "start_time": "2021-10-11T06:59:54.455Z"
   },
   {
    "duration": 11,
    "start_time": "2021-10-11T06:59:58.212Z"
   },
   {
    "duration": 21,
    "start_time": "2021-10-11T07:00:56.559Z"
   },
   {
    "duration": 16,
    "start_time": "2021-10-11T07:01:03.461Z"
   },
   {
    "duration": 816,
    "start_time": "2021-10-11T07:01:27.888Z"
   },
   {
    "duration": 850,
    "start_time": "2021-10-11T07:01:39.733Z"
   },
   {
    "duration": 92,
    "start_time": "2021-10-11T07:02:12.777Z"
   },
   {
    "duration": 19,
    "start_time": "2021-10-11T07:02:21.337Z"
   },
   {
    "duration": 34,
    "start_time": "2021-10-11T07:02:24.630Z"
   },
   {
    "duration": 23,
    "start_time": "2021-10-11T07:02:28.450Z"
   },
   {
    "duration": 13,
    "start_time": "2021-10-11T07:02:33.684Z"
   },
   {
    "duration": 63,
    "start_time": "2021-10-11T07:02:39.247Z"
   },
   {
    "duration": 29,
    "start_time": "2021-10-11T07:02:41.915Z"
   },
   {
    "duration": 17,
    "start_time": "2021-10-11T07:02:45.704Z"
   },
   {
    "duration": 33,
    "start_time": "2021-10-11T07:02:47.671Z"
   },
   {
    "duration": 23,
    "start_time": "2021-10-11T07:02:50.138Z"
   },
   {
    "duration": 12,
    "start_time": "2021-10-11T07:02:52.296Z"
   },
   {
    "duration": 310,
    "start_time": "2021-10-11T07:05:20.959Z"
   },
   {
    "duration": 113,
    "start_time": "2021-10-11T07:05:52.565Z"
   },
   {
    "duration": 338,
    "start_time": "2021-10-11T07:06:36.020Z"
   },
   {
    "duration": 61,
    "start_time": "2021-10-11T07:06:43.508Z"
   },
   {
    "duration": 33,
    "start_time": "2021-10-11T07:06:47.022Z"
   },
   {
    "duration": 309,
    "start_time": "2021-10-11T07:07:00.321Z"
   },
   {
    "duration": 65,
    "start_time": "2021-10-11T07:07:11.855Z"
   },
   {
    "duration": 34,
    "start_time": "2021-10-11T07:07:20.707Z"
   },
   {
    "duration": 17,
    "start_time": "2021-10-11T07:07:27.295Z"
   },
   {
    "duration": 33,
    "start_time": "2021-10-11T07:07:29.520Z"
   },
   {
    "duration": 25,
    "start_time": "2021-10-11T07:07:32.232Z"
   },
   {
    "duration": 13,
    "start_time": "2021-10-11T07:07:35.357Z"
   },
   {
    "duration": 64,
    "start_time": "2021-10-11T07:08:11.263Z"
   },
   {
    "duration": 34,
    "start_time": "2021-10-11T07:08:18.545Z"
   },
   {
    "duration": 18,
    "start_time": "2021-10-11T07:08:30.935Z"
   },
   {
    "duration": 36,
    "start_time": "2021-10-11T07:08:33.764Z"
   },
   {
    "duration": 22,
    "start_time": "2021-10-11T07:08:36.011Z"
   },
   {
    "duration": 11,
    "start_time": "2021-10-11T07:08:40.232Z"
   },
   {
    "duration": 17,
    "start_time": "2021-10-11T07:09:32.842Z"
   },
   {
    "duration": 17,
    "start_time": "2021-10-11T07:09:52.730Z"
   },
   {
    "duration": 18,
    "start_time": "2021-10-11T07:16:33.437Z"
   },
   {
    "duration": 348,
    "start_time": "2021-10-11T07:18:08.096Z"
   },
   {
    "duration": 17,
    "start_time": "2021-10-11T07:18:13.868Z"
   },
   {
    "duration": 338,
    "start_time": "2021-10-11T07:20:51.462Z"
   },
   {
    "duration": 59,
    "start_time": "2021-10-11T07:20:55.779Z"
   },
   {
    "duration": 32,
    "start_time": "2021-10-11T07:20:58.580Z"
   },
   {
    "duration": 369,
    "start_time": "2021-10-11T07:24:08.950Z"
   },
   {
    "duration": 433,
    "start_time": "2021-10-11T07:24:12.474Z"
   },
   {
    "duration": 62,
    "start_time": "2021-10-11T07:24:19.663Z"
   },
   {
    "duration": 36,
    "start_time": "2021-10-11T07:24:22.647Z"
   },
   {
    "duration": 340,
    "start_time": "2021-10-11T07:31:29.049Z"
   },
   {
    "duration": 315,
    "start_time": "2021-10-11T07:31:50.742Z"
   },
   {
    "duration": 67,
    "start_time": "2021-10-11T07:32:03.573Z"
   },
   {
    "duration": 32,
    "start_time": "2021-10-11T07:32:06.248Z"
   },
   {
    "duration": 17,
    "start_time": "2021-10-11T07:32:18.854Z"
   },
   {
    "duration": 32,
    "start_time": "2021-10-11T07:32:21.632Z"
   },
   {
    "duration": 22,
    "start_time": "2021-10-11T07:32:24.861Z"
   },
   {
    "duration": 22,
    "start_time": "2021-10-11T07:32:28.572Z"
   },
   {
    "duration": 65,
    "start_time": "2021-10-11T07:32:47.759Z"
   },
   {
    "duration": 315,
    "start_time": "2021-10-11T07:32:50.961Z"
   },
   {
    "duration": 314,
    "start_time": "2021-10-11T07:33:09.364Z"
   },
   {
    "duration": 64,
    "start_time": "2021-10-11T07:33:22.679Z"
   },
   {
    "duration": 29,
    "start_time": "2021-10-11T07:33:25.207Z"
   },
   {
    "duration": 17,
    "start_time": "2021-10-11T07:33:30.675Z"
   },
   {
    "duration": 32,
    "start_time": "2021-10-11T07:33:33.251Z"
   },
   {
    "duration": 21,
    "start_time": "2021-10-11T07:33:38.222Z"
   },
   {
    "duration": 21,
    "start_time": "2021-10-11T07:33:44.066Z"
   },
   {
    "duration": 22,
    "start_time": "2021-10-11T07:36:16.927Z"
   },
   {
    "duration": 16,
    "start_time": "2021-10-11T07:37:19.338Z"
   },
   {
    "duration": 285,
    "start_time": "2021-10-11T07:37:54.622Z"
   },
   {
    "duration": 72,
    "start_time": "2021-10-11T07:37:58.857Z"
   },
   {
    "duration": 34,
    "start_time": "2021-10-11T07:38:01.559Z"
   },
   {
    "duration": 21,
    "start_time": "2021-10-11T07:41:02.839Z"
   },
   {
    "duration": 21,
    "start_time": "2021-10-11T07:41:15.612Z"
   },
   {
    "duration": 297,
    "start_time": "2021-10-11T07:52:38.453Z"
   },
   {
    "duration": 61,
    "start_time": "2021-10-11T07:52:43.519Z"
   },
   {
    "duration": 43,
    "start_time": "2021-10-11T07:52:46.783Z"
   },
   {
    "duration": 17,
    "start_time": "2021-10-11T07:52:55.808Z"
   },
   {
    "duration": 33,
    "start_time": "2021-10-11T07:52:58.518Z"
   },
   {
    "duration": 1819,
    "start_time": "2021-10-11T07:53:02.372Z"
   },
   {
    "duration": 18,
    "start_time": "2021-10-11T07:53:13.338Z"
   },
   {
    "duration": 65,
    "start_time": "2021-10-11T07:53:41.748Z"
   },
   {
    "duration": 33,
    "start_time": "2021-10-11T07:53:44.363Z"
   },
   {
    "duration": 32,
    "start_time": "2021-10-11T07:53:53.796Z"
   },
   {
    "duration": 22,
    "start_time": "2021-10-11T07:53:56.262Z"
   },
   {
    "duration": 19,
    "start_time": "2021-10-11T07:53:59.095Z"
   },
   {
    "duration": 63,
    "start_time": "2021-10-11T08:07:52.851Z"
   },
   {
    "duration": 32,
    "start_time": "2021-10-11T08:07:55.543Z"
   },
   {
    "duration": 18,
    "start_time": "2021-10-11T08:08:01.716Z"
   },
   {
    "duration": 33,
    "start_time": "2021-10-11T08:08:03.965Z"
   },
   {
    "duration": 22,
    "start_time": "2021-10-11T08:08:06.552Z"
   },
   {
    "duration": 20,
    "start_time": "2021-10-11T08:08:08.834Z"
   },
   {
    "duration": 20,
    "start_time": "2021-10-11T08:11:37.461Z"
   },
   {
    "duration": 19,
    "start_time": "2021-10-11T08:12:06.786Z"
   },
   {
    "duration": 22,
    "start_time": "2021-10-11T08:12:41.989Z"
   },
   {
    "duration": 334,
    "start_time": "2021-10-11T08:14:12.354Z"
   },
   {
    "duration": 306,
    "start_time": "2021-10-11T08:14:21.186Z"
   },
   {
    "duration": 63,
    "start_time": "2021-10-11T08:14:30.020Z"
   },
   {
    "duration": 36,
    "start_time": "2021-10-11T08:14:32.401Z"
   },
   {
    "duration": 324,
    "start_time": "2021-10-11T08:18:21.260Z"
   },
   {
    "duration": 62,
    "start_time": "2021-10-11T08:18:25.163Z"
   },
   {
    "duration": 42,
    "start_time": "2021-10-11T08:18:27.563Z"
   },
   {
    "duration": 17,
    "start_time": "2021-10-11T08:18:36.286Z"
   },
   {
    "duration": 31,
    "start_time": "2021-10-11T08:18:38.914Z"
   },
   {
    "duration": 23,
    "start_time": "2021-10-11T08:18:45.485Z"
   },
   {
    "duration": 30,
    "start_time": "2021-10-11T08:18:48.463Z"
   },
   {
    "duration": 406,
    "start_time": "2021-10-11T08:20:13.328Z"
   },
   {
    "duration": 60,
    "start_time": "2021-10-11T08:20:17.572Z"
   },
   {
    "duration": 51,
    "start_time": "2021-10-11T08:20:20.228Z"
   },
   {
    "duration": 19,
    "start_time": "2021-10-11T08:20:30.114Z"
   },
   {
    "duration": 34,
    "start_time": "2021-10-11T08:20:32.664Z"
   },
   {
    "duration": 22,
    "start_time": "2021-10-11T08:20:35.944Z"
   },
   {
    "duration": 24,
    "start_time": "2021-10-11T08:20:39.086Z"
   },
   {
    "duration": 684,
    "start_time": "2021-10-11T08:24:33.188Z"
   },
   {
    "duration": 66,
    "start_time": "2021-10-11T08:24:37.562Z"
   },
   {
    "duration": 51,
    "start_time": "2021-10-11T08:24:40.049Z"
   },
   {
    "duration": 473,
    "start_time": "2021-10-11T08:24:56.864Z"
   },
   {
    "duration": 64,
    "start_time": "2021-10-11T08:25:00.101Z"
   },
   {
    "duration": 50,
    "start_time": "2021-10-11T08:25:02.746Z"
   },
   {
    "duration": 63,
    "start_time": "2021-10-11T08:25:19.867Z"
   },
   {
    "duration": 49,
    "start_time": "2021-10-11T08:25:22.549Z"
   },
   {
    "duration": 292,
    "start_time": "2021-10-11T08:26:41.024Z"
   },
   {
    "duration": 66,
    "start_time": "2021-10-11T08:26:44.113Z"
   },
   {
    "duration": 45,
    "start_time": "2021-10-11T08:26:46.695Z"
   },
   {
    "duration": 45,
    "start_time": "2021-10-11T08:26:52.365Z"
   },
   {
    "duration": 22,
    "start_time": "2021-10-11T08:26:55.530Z"
   },
   {
    "duration": 22,
    "start_time": "2021-10-11T08:26:58.796Z"
   },
   {
    "duration": 62,
    "start_time": "2021-10-11T08:29:57.309Z"
   },
   {
    "duration": 46,
    "start_time": "2021-10-11T08:30:00.626Z"
   },
   {
    "duration": 63,
    "start_time": "2021-10-11T08:36:07.873Z"
   },
   {
    "duration": 40,
    "start_time": "2021-10-11T08:36:11.099Z"
   },
   {
    "duration": 17,
    "start_time": "2021-10-11T08:36:15.350Z"
   },
   {
    "duration": 34,
    "start_time": "2021-10-11T08:36:20.118Z"
   },
   {
    "duration": 23,
    "start_time": "2021-10-11T08:36:22.928Z"
   },
   {
    "duration": 24,
    "start_time": "2021-10-11T08:36:26.420Z"
   },
   {
    "duration": 14,
    "start_time": "2021-10-11T08:40:37.961Z"
   },
   {
    "duration": 24,
    "start_time": "2021-10-11T08:41:38.926Z"
   },
   {
    "duration": 67,
    "start_time": "2021-10-11T08:42:58.065Z"
   },
   {
    "duration": 42,
    "start_time": "2021-10-11T08:43:08.825Z"
   },
   {
    "duration": 349,
    "start_time": "2021-10-11T08:45:21.583Z"
   },
   {
    "duration": 67,
    "start_time": "2021-10-11T08:45:33.326Z"
   },
   {
    "duration": 62,
    "start_time": "2021-10-11T08:45:36.173Z"
   },
   {
    "duration": 20,
    "start_time": "2021-10-11T08:45:38.875Z"
   },
   {
    "duration": 34,
    "start_time": "2021-10-11T08:45:41.894Z"
   },
   {
    "duration": 23,
    "start_time": "2021-10-11T08:45:45.953Z"
   },
   {
    "duration": 34,
    "start_time": "2021-10-11T08:45:48.559Z"
   },
   {
    "duration": 35,
    "start_time": "2021-10-11T08:48:44.766Z"
   },
   {
    "duration": 28,
    "start_time": "2021-10-11T08:48:48.096Z"
   },
   {
    "duration": 28,
    "start_time": "2021-10-11T08:49:06.547Z"
   },
   {
    "duration": 15,
    "start_time": "2021-10-11T08:49:25.051Z"
   },
   {
    "duration": 39,
    "start_time": "2021-10-11T08:57:17.722Z"
   },
   {
    "duration": 37,
    "start_time": "2021-10-11T09:16:35.513Z"
   },
   {
    "duration": 36,
    "start_time": "2021-10-11T09:16:55.243Z"
   },
   {
    "duration": 7469,
    "start_time": "2021-10-11T09:23:13.679Z"
   },
   {
    "duration": -41,
    "start_time": "2021-10-11T09:23:21.192Z"
   },
   {
    "duration": 60,
    "start_time": "2021-10-11T09:23:23.883Z"
   },
   {
    "duration": 46,
    "start_time": "2021-10-11T09:23:29.072Z"
   },
   {
    "duration": 63,
    "start_time": "2021-10-11T09:24:21.017Z"
   },
   {
    "duration": 44,
    "start_time": "2021-10-11T09:24:25.940Z"
   },
   {
    "duration": 44,
    "start_time": "2021-10-11T09:24:34.450Z"
   },
   {
    "duration": 19,
    "start_time": "2021-10-11T09:27:45.042Z"
   },
   {
    "duration": 36,
    "start_time": "2021-10-11T09:27:48.238Z"
   },
   {
    "duration": 22,
    "start_time": "2021-10-11T09:27:52.254Z"
   },
   {
    "duration": 42,
    "start_time": "2021-10-11T09:27:58.134Z"
   },
   {
    "duration": 47,
    "start_time": "2021-10-11T09:30:34.284Z"
   },
   {
    "duration": 32,
    "start_time": "2021-10-11T09:33:25.910Z"
   },
   {
    "duration": 12,
    "start_time": "2021-10-11T09:33:32.397Z"
   },
   {
    "duration": 20,
    "start_time": "2021-10-11T09:33:47.069Z"
   },
   {
    "duration": 20,
    "start_time": "2021-10-11T09:34:07.626Z"
   },
   {
    "duration": 21,
    "start_time": "2021-10-11T09:34:22.776Z"
   },
   {
    "duration": 27,
    "start_time": "2021-10-11T09:34:37.800Z"
   },
   {
    "duration": 21,
    "start_time": "2021-10-11T09:34:51.766Z"
   },
   {
    "duration": 11,
    "start_time": "2021-10-11T09:35:14.925Z"
   },
   {
    "duration": 399,
    "start_time": "2021-10-11T09:39:02.940Z"
   },
   {
    "duration": 13,
    "start_time": "2021-10-11T09:39:20.523Z"
   },
   {
    "duration": 7,
    "start_time": "2021-10-11T09:39:39.963Z"
   },
   {
    "duration": 7,
    "start_time": "2021-10-11T09:39:56.104Z"
   },
   {
    "duration": 17,
    "start_time": "2021-10-11T09:42:21.241Z"
   },
   {
    "duration": 18,
    "start_time": "2021-10-11T09:42:35.635Z"
   },
   {
    "duration": 16,
    "start_time": "2021-10-11T09:43:16.775Z"
   },
   {
    "duration": 18,
    "start_time": "2021-10-11T09:43:27.646Z"
   },
   {
    "duration": 21,
    "start_time": "2021-10-11T09:44:06.239Z"
   },
   {
    "duration": 18,
    "start_time": "2021-10-11T09:44:12.418Z"
   },
   {
    "duration": 313,
    "start_time": "2021-10-11T09:44:30.857Z"
   },
   {
    "duration": 306,
    "start_time": "2021-10-11T09:44:32.980Z"
   },
   {
    "duration": 16,
    "start_time": "2021-10-11T09:44:37.860Z"
   },
   {
    "duration": 16,
    "start_time": "2021-10-11T09:44:45.743Z"
   },
   {
    "duration": 18,
    "start_time": "2021-10-11T09:45:03.450Z"
   },
   {
    "duration": 16,
    "start_time": "2021-10-11T09:45:50.085Z"
   },
   {
    "duration": 107,
    "start_time": "2021-10-11T09:47:53.057Z"
   },
   {
    "duration": 27,
    "start_time": "2021-10-11T09:47:57.164Z"
   },
   {
    "duration": 50,
    "start_time": "2021-10-11T09:49:05.265Z"
   },
   {
    "duration": 24,
    "start_time": "2021-10-11T09:49:32.672Z"
   },
   {
    "duration": 6,
    "start_time": "2021-10-11T09:50:29.510Z"
   },
   {
    "duration": 7,
    "start_time": "2021-10-11T09:50:59.940Z"
   },
   {
    "duration": 27,
    "start_time": "2021-10-11T09:52:41.556Z"
   },
   {
    "duration": 18,
    "start_time": "2021-10-11T09:54:04.046Z"
   },
   {
    "duration": 5955,
    "start_time": "2021-10-11T09:55:43.860Z"
   },
   {
    "duration": 5981,
    "start_time": "2021-10-11T09:55:50.277Z"
   },
   {
    "duration": 344,
    "start_time": "2021-10-11T09:56:12.011Z"
   },
   {
    "duration": 25,
    "start_time": "2021-10-11T09:56:23.118Z"
   },
   {
    "duration": 51,
    "start_time": "2021-10-11T09:57:19.567Z"
   },
   {
    "duration": 7268,
    "start_time": "2021-10-11T09:57:55.349Z"
   },
   {
    "duration": 49,
    "start_time": "2021-10-11T09:58:36.331Z"
   },
   {
    "duration": 287,
    "start_time": "2021-10-11T10:01:45.177Z"
   },
   {
    "duration": 16,
    "start_time": "2021-10-11T10:01:59.446Z"
   },
   {
    "duration": 16,
    "start_time": "2021-10-11T10:02:23.875Z"
   },
   {
    "duration": 17,
    "start_time": "2021-10-11T10:03:16.606Z"
   },
   {
    "duration": 16,
    "start_time": "2021-10-11T10:03:25.090Z"
   },
   {
    "duration": 15,
    "start_time": "2021-10-11T10:03:59.348Z"
   },
   {
    "duration": 523,
    "start_time": "2021-10-11T12:27:05.312Z"
   },
   {
    "duration": 19,
    "start_time": "2021-10-11T12:27:33.879Z"
   },
   {
    "duration": 33,
    "start_time": "2021-10-11T12:28:54.728Z"
   },
   {
    "duration": 2885,
    "start_time": "2021-10-11T12:30:25.221Z"
   },
   {
    "duration": 394,
    "start_time": "2021-10-11T12:30:28.531Z"
   },
   {
    "duration": 26,
    "start_time": "2021-10-11T12:30:38.798Z"
   },
   {
    "duration": 50,
    "start_time": "2021-10-11T12:35:15.561Z"
   },
   {
    "duration": 53,
    "start_time": "2021-10-11T12:35:39.778Z"
   },
   {
    "duration": 45,
    "start_time": "2021-10-11T12:36:02.035Z"
   },
   {
    "duration": 25,
    "start_time": "2021-10-11T12:38:12.637Z"
   },
   {
    "duration": 5956,
    "start_time": "2021-10-11T12:40:20.533Z"
   },
   {
    "duration": 32,
    "start_time": "2021-10-11T12:40:38.552Z"
   },
   {
    "duration": 30,
    "start_time": "2021-10-11T12:42:13.516Z"
   },
   {
    "duration": 30,
    "start_time": "2021-10-11T12:43:13.054Z"
   },
   {
    "duration": 30,
    "start_time": "2021-10-11T12:44:00.876Z"
   },
   {
    "duration": 32,
    "start_time": "2021-10-11T12:44:50.637Z"
   },
   {
    "duration": 78,
    "start_time": "2021-10-11T15:22:15.455Z"
   },
   {
    "duration": 61,
    "start_time": "2021-10-11T16:03:02.978Z"
   },
   {
    "duration": 39,
    "start_time": "2021-10-11T16:03:07.482Z"
   },
   {
    "duration": 43,
    "start_time": "2021-10-11T16:04:42.075Z"
   },
   {
    "duration": 7746,
    "start_time": "2021-10-11T21:18:21.630Z"
   },
   {
    "duration": 21,
    "start_time": "2021-10-11T21:18:58.272Z"
   },
   {
    "duration": 28,
    "start_time": "2021-10-11T21:19:11.089Z"
   },
   {
    "duration": 31,
    "start_time": "2021-10-11T21:19:36.556Z"
   },
   {
    "duration": 32,
    "start_time": "2021-10-11T21:29:28.007Z"
   },
   {
    "duration": 426,
    "start_time": "2021-10-11T21:29:50.559Z"
   },
   {
    "duration": 351,
    "start_time": "2021-10-11T21:30:54.854Z"
   },
   {
    "duration": 301,
    "start_time": "2021-10-11T21:31:01.922Z"
   },
   {
    "duration": 663,
    "start_time": "2021-10-12T01:54:52.005Z"
   },
   {
    "duration": 861,
    "start_time": "2021-10-12T01:55:19.317Z"
   },
   {
    "duration": 54,
    "start_time": "2021-10-12T01:55:23.554Z"
   },
   {
    "duration": 13,
    "start_time": "2021-10-12T01:55:27.623Z"
   },
   {
    "duration": 68,
    "start_time": "2021-10-12T02:13:00.484Z"
   },
   {
    "duration": 43,
    "start_time": "2021-10-12T02:13:03.295Z"
   },
   {
    "duration": 68,
    "start_time": "2021-10-12T02:54:35.000Z"
   },
   {
    "duration": 48,
    "start_time": "2021-10-12T02:54:39.144Z"
   },
   {
    "duration": 13,
    "start_time": "2021-10-12T02:54:48.536Z"
   },
   {
    "duration": 18,
    "start_time": "2021-10-12T02:54:51.591Z"
   },
   {
    "duration": 34,
    "start_time": "2021-10-12T02:55:05.657Z"
   },
   {
    "duration": 22,
    "start_time": "2021-10-12T02:55:15.018Z"
   },
   {
    "duration": 40,
    "start_time": "2021-10-12T02:55:19.841Z"
   },
   {
    "duration": 30,
    "start_time": "2021-10-12T02:55:28.505Z"
   },
   {
    "duration": 32,
    "start_time": "2021-10-12T02:55:44.071Z"
   },
   {
    "duration": 32,
    "start_time": "2021-10-12T02:55:48.139Z"
   },
   {
    "duration": 68,
    "start_time": "2021-10-12T02:55:59.039Z"
   },
   {
    "duration": 38,
    "start_time": "2021-10-12T03:07:01.852Z"
   },
   {
    "duration": 12,
    "start_time": "2021-10-12T03:19:19.995Z"
   },
   {
    "duration": 11,
    "start_time": "2021-10-12T03:20:13.011Z"
   },
   {
    "duration": 105,
    "start_time": "2021-10-12T03:20:52.820Z"
   },
   {
    "duration": 12,
    "start_time": "2021-10-12T03:21:11.219Z"
   },
   {
    "duration": 9,
    "start_time": "2021-10-12T03:22:11.331Z"
   },
   {
    "duration": 102,
    "start_time": "2021-10-12T03:36:58.155Z"
   },
   {
    "duration": 21,
    "start_time": "2021-10-12T03:37:10.286Z"
   },
   {
    "duration": 32,
    "start_time": "2021-10-12T03:40:28.222Z"
   },
   {
    "duration": 21,
    "start_time": "2021-10-12T03:40:42.609Z"
   },
   {
    "duration": 302,
    "start_time": "2021-10-12T03:42:36.436Z"
   },
   {
    "duration": 68,
    "start_time": "2021-10-12T03:42:41.759Z"
   },
   {
    "duration": 40,
    "start_time": "2021-10-12T03:42:45.281Z"
   },
   {
    "duration": 13,
    "start_time": "2021-10-12T03:42:50.337Z"
   },
   {
    "duration": 19,
    "start_time": "2021-10-12T03:42:57.622Z"
   },
   {
    "duration": 35,
    "start_time": "2021-10-12T03:43:00.322Z"
   },
   {
    "duration": 22,
    "start_time": "2021-10-12T03:43:05.818Z"
   },
   {
    "duration": 10,
    "start_time": "2021-10-12T03:43:07.969Z"
   },
   {
    "duration": 20,
    "start_time": "2021-10-12T03:43:09.906Z"
   },
   {
    "duration": 22,
    "start_time": "2021-10-12T03:43:15.246Z"
   },
   {
    "duration": 69,
    "start_time": "2021-10-12T04:07:56.992Z"
   },
   {
    "duration": 62,
    "start_time": "2021-10-12T04:10:48.394Z"
   },
   {
    "duration": 64,
    "start_time": "2021-10-12T04:12:01.480Z"
   },
   {
    "duration": 64,
    "start_time": "2021-10-12T04:13:06.254Z"
   },
   {
    "duration": 64,
    "start_time": "2021-10-12T04:13:53.631Z"
   },
   {
    "duration": 66,
    "start_time": "2021-10-12T04:14:08.755Z"
   },
   {
    "duration": 106,
    "start_time": "2021-10-12T04:15:51.666Z"
   },
   {
    "duration": 68,
    "start_time": "2021-10-12T04:16:41.702Z"
   },
   {
    "duration": 64,
    "start_time": "2021-10-12T04:20:05.784Z"
   },
   {
    "duration": 66,
    "start_time": "2021-10-12T04:21:10.283Z"
   },
   {
    "duration": 69,
    "start_time": "2021-10-12T04:21:21.634Z"
   },
   {
    "duration": 63,
    "start_time": "2021-10-12T04:23:03.362Z"
   },
   {
    "duration": 60,
    "start_time": "2021-10-12T04:23:23.657Z"
   },
   {
    "duration": 64,
    "start_time": "2021-10-12T04:23:35.819Z"
   },
   {
    "duration": 97,
    "start_time": "2021-10-12T04:29:31.827Z"
   },
   {
    "duration": 99,
    "start_time": "2021-10-12T04:29:58.772Z"
   },
   {
    "duration": 65,
    "start_time": "2021-10-12T04:30:31.273Z"
   },
   {
    "duration": 74,
    "start_time": "2021-10-12T04:32:44.596Z"
   },
   {
    "duration": 67,
    "start_time": "2021-10-12T04:32:55.486Z"
   },
   {
    "duration": 15,
    "start_time": "2021-10-12T04:35:01.079Z"
   },
   {
    "duration": 16,
    "start_time": "2021-10-12T04:35:50.907Z"
   },
   {
    "duration": 15,
    "start_time": "2021-10-12T04:36:21.296Z"
   },
   {
    "duration": 15,
    "start_time": "2021-10-12T04:36:59.235Z"
   },
   {
    "duration": 315,
    "start_time": "2021-10-12T06:13:59.453Z"
   },
   {
    "duration": 20,
    "start_time": "2021-10-12T06:14:07.226Z"
   },
   {
    "duration": 72,
    "start_time": "2021-10-12T06:14:13.986Z"
   },
   {
    "duration": 19,
    "start_time": "2021-10-12T06:14:16.756Z"
   },
   {
    "duration": 39,
    "start_time": "2021-10-12T06:14:20.526Z"
   },
   {
    "duration": 12,
    "start_time": "2021-10-12T06:14:23.274Z"
   },
   {
    "duration": 18,
    "start_time": "2021-10-12T06:14:26.424Z"
   },
   {
    "duration": 34,
    "start_time": "2021-10-12T06:14:31.439Z"
   },
   {
    "duration": 23,
    "start_time": "2021-10-12T06:14:34.801Z"
   },
   {
    "duration": 11,
    "start_time": "2021-10-12T06:14:40.271Z"
   },
   {
    "duration": 20,
    "start_time": "2021-10-12T06:14:45.142Z"
   },
   {
    "duration": 22,
    "start_time": "2021-10-12T06:14:49.993Z"
   },
   {
    "duration": 73,
    "start_time": "2021-10-12T06:14:56.117Z"
   },
   {
    "duration": 14,
    "start_time": "2021-10-12T06:14:59.944Z"
   },
   {
    "duration": 64,
    "start_time": "2021-10-12T06:15:02.813Z"
   },
   {
    "duration": 16,
    "start_time": "2021-10-12T06:15:04.974Z"
   },
   {
    "duration": 69,
    "start_time": "2021-10-12T06:15:08.277Z"
   },
   {
    "duration": 14,
    "start_time": "2021-10-12T06:15:10.409Z"
   },
   {
    "duration": 63,
    "start_time": "2021-10-12T06:15:14.731Z"
   },
   {
    "duration": 14,
    "start_time": "2021-10-12T06:15:17.169Z"
   },
   {
    "duration": 6,
    "start_time": "2021-10-12T06:36:00.082Z"
   },
   {
    "duration": 76,
    "start_time": "2021-10-12T06:37:26.796Z"
   },
   {
    "duration": 19,
    "start_time": "2021-10-12T07:12:33.157Z"
   },
   {
    "duration": 72,
    "start_time": "2021-10-12T07:12:43.265Z"
   },
   {
    "duration": 20,
    "start_time": "2021-10-12T07:12:45.688Z"
   },
   {
    "duration": 6,
    "start_time": "2021-10-12T07:12:49.008Z"
   },
   {
    "duration": 10,
    "start_time": "2021-10-12T07:12:51.752Z"
   },
   {
    "duration": 16,
    "start_time": "2021-10-12T07:12:53.589Z"
   },
   {
    "duration": 6,
    "start_time": "2021-10-12T07:12:55.754Z"
   },
   {
    "duration": 6,
    "start_time": "2021-10-12T07:12:59.804Z"
   },
   {
    "duration": 18,
    "start_time": "2021-10-12T07:13:03.309Z"
   },
   {
    "duration": 15,
    "start_time": "2021-10-12T07:13:08.010Z"
   },
   {
    "duration": 6,
    "start_time": "2021-10-12T07:17:47.436Z"
   },
   {
    "duration": 259,
    "start_time": "2021-10-12T07:42:47.889Z"
   },
   {
    "duration": 275,
    "start_time": "2021-10-12T07:43:08.474Z"
   },
   {
    "duration": 8,
    "start_time": "2021-10-12T07:43:16.829Z"
   },
   {
    "duration": 7,
    "start_time": "2021-10-12T07:43:27.773Z"
   },
   {
    "duration": 7,
    "start_time": "2021-10-12T07:43:33.751Z"
   },
   {
    "duration": 9,
    "start_time": "2021-10-12T07:43:46.187Z"
   },
   {
    "duration": 827,
    "start_time": "2021-10-12T07:44:07.516Z"
   },
   {
    "duration": 292,
    "start_time": "2021-10-12T07:44:22.675Z"
   },
   {
    "duration": 9,
    "start_time": "2021-10-12T07:44:28.538Z"
   },
   {
    "duration": 10,
    "start_time": "2021-10-12T07:45:11.803Z"
   },
   {
    "duration": 43,
    "start_time": "2021-10-12T07:46:05.978Z"
   },
   {
    "duration": 12,
    "start_time": "2021-10-12T07:46:19.566Z"
   },
   {
    "duration": 12,
    "start_time": "2021-10-12T07:46:33.751Z"
   },
   {
    "duration": 73,
    "start_time": "2021-10-12T07:46:50.428Z"
   },
   {
    "duration": 20,
    "start_time": "2021-10-12T07:46:53.799Z"
   },
   {
    "duration": 10,
    "start_time": "2021-10-12T07:46:58.031Z"
   },
   {
    "duration": 11,
    "start_time": "2021-10-12T07:47:01.049Z"
   },
   {
    "duration": 285,
    "start_time": "2021-10-12T07:47:27.802Z"
   },
   {
    "duration": 272,
    "start_time": "2021-10-12T07:47:33.924Z"
   },
   {
    "duration": 11,
    "start_time": "2021-10-12T07:47:58.836Z"
   },
   {
    "duration": 11,
    "start_time": "2021-10-12T07:49:15.952Z"
   },
   {
    "duration": 13,
    "start_time": "2021-10-12T07:50:43.529Z"
   },
   {
    "duration": 12,
    "start_time": "2021-10-12T07:51:45.184Z"
   },
   {
    "duration": 275,
    "start_time": "2021-10-12T08:05:04.770Z"
   },
   {
    "duration": 40,
    "start_time": "2021-10-12T08:05:18.774Z"
   },
   {
    "duration": 15,
    "start_time": "2021-10-12T08:05:37.018Z"
   },
   {
    "duration": 8,
    "start_time": "2021-10-12T08:06:27.175Z"
   },
   {
    "duration": 7,
    "start_time": "2021-10-12T08:06:52.025Z"
   },
   {
    "duration": 8,
    "start_time": "2021-10-12T08:08:05.199Z"
   },
   {
    "duration": 6,
    "start_time": "2021-10-12T08:08:26.337Z"
   },
   {
    "duration": 270,
    "start_time": "2021-10-12T10:00:58.051Z"
   },
   {
    "duration": 274,
    "start_time": "2021-10-12T10:01:03.034Z"
   },
   {
    "duration": 715,
    "start_time": "2021-10-12T10:01:14.520Z"
   },
   {
    "duration": 21,
    "start_time": "2021-10-12T10:01:22.155Z"
   },
   {
    "duration": 67,
    "start_time": "2021-10-12T10:45:36.258Z"
   },
   {
    "duration": 69,
    "start_time": "2021-10-12T13:22:22.656Z"
   },
   {
    "duration": 20,
    "start_time": "2021-10-12T13:22:25.140Z"
   },
   {
    "duration": 39,
    "start_time": "2021-10-12T13:22:28.997Z"
   },
   {
    "duration": 10,
    "start_time": "2021-10-12T13:22:34.327Z"
   },
   {
    "duration": 6,
    "start_time": "2021-10-12T13:22:37.278Z"
   },
   {
    "duration": 6,
    "start_time": "2021-10-12T13:22:40.904Z"
   },
   {
    "duration": 10,
    "start_time": "2021-10-12T13:22:43.239Z"
   },
   {
    "duration": 15,
    "start_time": "2021-10-12T13:22:45.615Z"
   },
   {
    "duration": 7,
    "start_time": "2021-10-12T13:22:47.416Z"
   },
   {
    "duration": 20,
    "start_time": "2021-10-12T13:22:49.817Z"
   },
   {
    "duration": 13,
    "start_time": "2021-10-12T13:22:54.234Z"
   },
   {
    "duration": 19,
    "start_time": "2021-10-12T13:22:57.317Z"
   },
   {
    "duration": 35,
    "start_time": "2021-10-12T13:23:01.021Z"
   },
   {
    "duration": 22,
    "start_time": "2021-10-12T13:23:04.116Z"
   },
   {
    "duration": 10,
    "start_time": "2021-10-12T13:23:06.570Z"
   },
   {
    "duration": 20,
    "start_time": "2021-10-12T13:23:09.260Z"
   },
   {
    "duration": 22,
    "start_time": "2021-10-12T13:23:11.577Z"
   },
   {
    "duration": 72,
    "start_time": "2021-10-12T13:23:17.718Z"
   },
   {
    "duration": 64,
    "start_time": "2021-10-12T13:23:20.985Z"
   },
   {
    "duration": 68,
    "start_time": "2021-10-12T13:23:23.781Z"
   },
   {
    "duration": 62,
    "start_time": "2021-10-12T13:23:26.604Z"
   },
   {
    "duration": 906,
    "start_time": "2021-10-12T18:30:59.589Z"
   },
   {
    "duration": 36,
    "start_time": "2021-10-12T18:31:00.498Z"
   },
   {
    "duration": 56,
    "start_time": "2021-10-12T18:31:00.537Z"
   },
   {
    "duration": 11,
    "start_time": "2021-10-12T18:31:00.596Z"
   },
   {
    "duration": 11,
    "start_time": "2021-10-12T18:31:00.609Z"
   },
   {
    "duration": 35,
    "start_time": "2021-10-12T18:31:00.623Z"
   },
   {
    "duration": 11,
    "start_time": "2021-10-12T18:31:00.660Z"
   },
   {
    "duration": 22,
    "start_time": "2021-10-12T18:31:00.676Z"
   },
   {
    "duration": 7,
    "start_time": "2021-10-12T18:31:00.701Z"
   },
   {
    "duration": 57,
    "start_time": "2021-10-12T18:31:00.711Z"
   },
   {
    "duration": 27,
    "start_time": "2021-10-12T18:31:00.771Z"
   },
   {
    "duration": 24,
    "start_time": "2021-10-12T18:31:00.800Z"
   },
   {
    "duration": 54,
    "start_time": "2021-10-12T18:31:00.826Z"
   },
   {
    "duration": 25,
    "start_time": "2021-10-12T18:31:00.883Z"
   },
   {
    "duration": 36,
    "start_time": "2021-10-12T18:31:00.911Z"
   },
   {
    "duration": 26,
    "start_time": "2021-10-12T18:31:00.950Z"
   },
   {
    "duration": 26,
    "start_time": "2021-10-12T18:31:00.979Z"
   },
   {
    "duration": 100,
    "start_time": "2021-10-12T18:31:01.007Z"
   },
   {
    "duration": 78,
    "start_time": "2021-10-12T18:31:01.110Z"
   },
   {
    "duration": 78,
    "start_time": "2021-10-12T18:31:01.190Z"
   },
   {
    "duration": 62,
    "start_time": "2021-10-12T18:31:01.271Z"
   }
  ],
  "kernelspec": {
   "display_name": "Python 3",
   "language": "python",
   "name": "python3"
  },
  "language_info": {
   "codemirror_mode": {
    "name": "ipython",
    "version": 3
   },
   "file_extension": ".py",
   "mimetype": "text/x-python",
   "name": "python",
   "nbconvert_exporter": "python",
   "pygments_lexer": "ipython3",
   "version": "3.8.8"
  },
  "toc": {
   "base_numbering": 1,
   "nav_menu": {},
   "number_sections": true,
   "sideBar": true,
   "skip_h1_title": true,
   "title_cell": "Table of Contents",
   "title_sidebar": "Contents",
   "toc_cell": false,
   "toc_position": {},
   "toc_section_display": true,
   "toc_window_display": false
  }
 },
 "nbformat": 4,
 "nbformat_minor": 2
}
